{
 "cells": [
  {
   "cell_type": "code",
   "execution_count": 1,
   "id": "b7ecd6fa",
   "metadata": {},
   "outputs": [],
   "source": [
    "from numpy import *\n",
    "import operator\n",
    "import os"
   ]
  },
  {
   "cell_type": "code",
   "execution_count": 2,
   "id": "08432c0a",
   "metadata": {},
   "outputs": [],
   "source": [
    "def createDataSet(): #创建数据集和标签\n",
    "    groups = array([[1.0,1.1],[1.0,1.0],[0,0],[0,1.0]])\n",
    "    labels = ['A','A','B','B']\n",
    "    return groups,labels"
   ]
  },
  {
   "cell_type": "code",
   "execution_count": 3,
   "id": "99f314c6",
   "metadata": {},
   "outputs": [
    {
     "data": {
      "text/plain": [
       "(array([[1. , 1.1],\n",
       "        [1. , 1. ],\n",
       "        [0. , 0. ],\n",
       "        [0. , 1. ]]),\n",
       " ['A', 'A', 'B', 'B'])"
      ]
     },
     "execution_count": 3,
     "metadata": {},
     "output_type": "execute_result"
    }
   ],
   "source": [
    "groups,labels=createDataSet()\n",
    "groups,labels"
   ]
  },
  {
   "cell_type": "markdown",
   "id": "9cfd3625",
   "metadata": {},
   "source": [
    " ### 基于欧氏距离的knn算法"
   ]
  },
  {
   "cell_type": "code",
   "execution_count": 4,
   "id": "76cd8766",
   "metadata": {},
   "outputs": [],
   "source": [
    "def classify0(inX,dataSet,labels,k): \n",
    "    \"\"\"\n",
    "    参数: \n",
    "    - inX: 用于分类的输入向量\n",
    "    - dataSet: 输入的训练样本集\n",
    "    - labels: 样本数据的类标签向量\n",
    "    - k: 用于选择最近邻居的数目\n",
    "    \"\"\"\n",
    "    dataSetsize = dataSet.shape[0]\n",
    "    diffMat = tile(inX,(dataSetsize,1))-dataSet\n",
    "    sqDiffMat = diffMat**2\n",
    "    sqDistance = sqDiffMat.sum(axis=1) #按行求和\n",
    "    distances = sqDistance**0.5\n",
    "    sortedDistIndices = distances.argsort() #将distance按从小到大排序，并返回下标\n",
    "    classCount={}\n",
    "    for i in range(k):\n",
    "        voteIlabel = labels[sortedDistIndices[i]]\n",
    "        classCount[voteIlabel] = classCount.get(voteIlabel,0)+1\n",
    "    sortedClassCount = sorted(classCount.items(),key=operator.itemgetter(1),reverse=True)\n",
    "    return sortedClassCount[0][0] #返回发生频率最高的元素标签"
   ]
  },
  {
   "cell_type": "code",
   "execution_count": 5,
   "id": "2e64b84e",
   "metadata": {},
   "outputs": [
    {
     "data": {
      "text/plain": [
       "'B'"
      ]
     },
     "execution_count": 5,
     "metadata": {},
     "output_type": "execute_result"
    }
   ],
   "source": [
    "classify0([0,0],groups,labels,2)"
   ]
  },
  {
   "cell_type": "code",
   "execution_count": 6,
   "id": "105b217f",
   "metadata": {},
   "outputs": [
    {
     "data": {
      "text/plain": [
       "6.0"
      ]
     },
     "execution_count": 6,
     "metadata": {},
     "output_type": "execute_result"
    }
   ],
   "source": [
    "from numpy import *\n",
    "linalg.norm(array([3,3,3])-array([1,1,1]),ord=1)  #曼哈顿距离"
   ]
  },
  {
   "cell_type": "markdown",
   "id": "e634d950",
   "metadata": {},
   "source": [
    "### 基于马氏距离的knn算法\n",
    "马氏距离有很多优点。它不受量纲的影响，两点之间的马氏距离与原始数据的测量单位无关；由标准化数据和中心化数据(即原始数据与均值之差）计算出的二点之间的马氏距离相同。马氏距离还可以排除变量之间的相关性的干扰。它的缺点是夸大了变化微小的变量的作用。"
   ]
  },
  {
   "cell_type": "code",
   "execution_count": 7,
   "id": "e3fe1034",
   "metadata": {},
   "outputs": [],
   "source": [
    "def classify_M(inX,dataSet,labels,k): \n",
    "    \"\"\"\n",
    "    参数: \n",
    "    - inX: 用于分类的输入向量\n",
    "    - dataSet: 输入的训练样本集\n",
    "    - labels: 样本数据的类标签向量\n",
    "    - k: 用于选择最近邻居的数目\n",
    "    \"\"\"\n",
    "    dataSetsize = dataSet.shape[0]\n",
    "    distances=[]\n",
    "    for i in range(dataSetsize):\n",
    "        x = array(dataSet)\n",
    "        xt=x.T\n",
    "        D=cov(xt)\n",
    "        invD=linalg.inv(D)\n",
    "        tp=inX-dataSet[i]\n",
    "        distances.append(sqrt(dot(dot(tp,invD),tp.T)))   #马氏距离\n",
    "        \n",
    "    sortedDistIndices = array(distances).argsort() #将distance按从小到大排序，并返回下标\n",
    "    classCount={}\n",
    "    for i in range(k):\n",
    "        voteIlabel = labels[sortedDistIndices[i]]\n",
    "        classCount[voteIlabel] = classCount.get(voteIlabel,0)+1\n",
    "    sortedClassCount = sorted(classCount.items(),key=operator.itemgetter(1),reverse=True)\n",
    "    return sortedClassCount[0][0] #返回发生频率最高的元素标签\n"
   ]
  },
  {
   "cell_type": "code",
   "execution_count": 9,
   "id": "fbc32b7e",
   "metadata": {},
   "outputs": [
    {
     "data": {
      "text/plain": [
       "'B'"
      ]
     },
     "execution_count": 9,
     "metadata": {},
     "output_type": "execute_result"
    }
   ],
   "source": [
    "classify0([0,0],groups,labels,2)"
   ]
  },
  {
   "cell_type": "markdown",
   "id": "2455949e",
   "metadata": {},
   "source": [
    " ### wk_NNC算法\n",
    " wk-NNC算法是对经典knn算法的改进，这种方法是对k个近邻的样本按照他们距离待分类样本的远近给一个权值w：\n",
    "w^i=(h^k-h^i)/(h^k-h^l)  \n",
    "w^i是第i个近邻的权值，其中h^i是待测样本距离第i个近邻的距离。"
   ]
  },
  {
   "cell_type": "code",
   "execution_count": null,
   "id": "00261917",
   "metadata": {},
   "outputs": [],
   "source": [
    "def knn_W(inX, dataSet, labels, k):\n",
    "    dataSetSize = dataSet.shape[0]\n",
    "    diffMat = tile(inX, (dataSetSize,1)) - dataSet  \n",
    "\n",
    "    sqDiffMat = diffMat**2\n",
    "    sqDistances = sqDiffMat.sum(axis=1) \n",
    "    distances = sqDistances**0.5\n",
    "    sortedDistIndicies = distances.argsort()        \n",
    "    classCount={}   \n",
    "    w=[]     \n",
    "    for i in range(k):\n",
    "        w.append((distances[sortedDistIndicies[k-1]]-distances[sortedDistIndicies[i]]\\\n",
    "        )/(distances[sortedDistIndicies[k-1]]-distances[sortedDistIndicies[0]]))\n",
    "        voteIlabel = labels[sortedDistIndicies[i]]\n",
    "        classCount[voteIlabel] = classCount.get(voteIlabel,0) + w[i]\n",
    "    sortedClassCount = sorted(classCount.items(), key=operator.itemgetter(1), reverse=True)\n",
    "    return sortedClassCount[0][0]"
   ]
  },
  {
   "cell_type": "code",
   "execution_count": null,
   "id": "639b723b",
   "metadata": {},
   "outputs": [],
   "source": [
    "knn_W([0,0],groups,labels,2)"
   ]
  },
  {
   "cell_type": "markdown",
   "id": "f10897eb",
   "metadata": {},
   "source": [
    "### knnm算法\n",
    "knnm算法运用了训练样本中的每一个模式，对训练样本的每个类clip_image008，\n",
    "\n",
    "1 ≤ i ≤ c，在每一个类中找出距离测试样本距离最近的k个近邻clip_image010，假设这k个近邻的均值为clip_image012，同样的，i从1到c变化，我们得到clip_image014，如果clip_image016是M当中距离测试样本最近的，则测试样本属于clip_image018类。\n",
    "\n",
    "       如下图所示，对于一个两类的问题，每个类选三个近邻，类clip_image020用*表示，类clip_image022用o表示，“Y”是测试样本，则Y属于clip_image022[1]类。\n",
    "       "
   ]
  },
  {
   "cell_type": "code",
   "execution_count": null,
   "id": "63c889a1",
   "metadata": {},
   "outputs": [],
   "source": [
    "def knn_M(inX, dataSet, labels, k):\n",
    "    dataSetSize = dataSet.shape[0]\n",
    "    diffMat = tile(inX, (dataSetSize, 1)) - dataSet   #tile repeat inX to (dataSetSize,1)\n",
    "    sqDiffMat = diffMat ** 2\n",
    "    sqDistances = sqDiffMat.sum(axis=1)  #sum per row\n",
    "    distances = sqDistances ** 0.5\n",
    "    sortedDistIndicies = distances.argsort()\n",
    "    classCount={}\n",
    "    classNum={}\n",
    "    i=0\n",
    "    while i<dataSetSize:\n",
    "        voteIlabel = labels[sortedDistIndicies[i]]\n",
    "        if sum(classNum)==10*k:\n",
    "            break\n",
    "        elif classNum.get(voteIlabel,0)==k:\n",
    "            i += 1\n",
    "        else:\n",
    "            classCount[voteIlabel] = classCount.get(voteIlabel,0) \\\n",
    "                                     + distances[sortedDistIndicies[i]]\n",
    "            classNum[voteIlabel]=classNum.get(voteIlabel,0)+1\n",
    "            i += 1\n",
    "    sortedClassCount = sorted(classCount.items(), key=operator.itemgetter(1))\n",
    "    return sortedClassCount[0][0]"
   ]
  },
  {
   "cell_type": "code",
   "execution_count": null,
   "id": "2451cfbe",
   "metadata": {},
   "outputs": [],
   "source": [
    "knnm([0,0],groups,labels,2)"
   ]
  },
  {
   "cell_type": "markdown",
   "id": "4f053d4b",
   "metadata": {},
   "source": [
    "### 手写识别系统"
   ]
  },
  {
   "cell_type": "markdown",
   "id": "b013a14c",
   "metadata": {},
   "source": [
    "准备数据：将图像转换为测试向量"
   ]
  },
  {
   "cell_type": "code",
   "execution_count": null,
   "id": "e63999ea",
   "metadata": {},
   "outputs": [],
   "source": [
    "def img2vector(filename):\n",
    "    returnVect = zeros((1,1024))\n",
    "    fr = open(filename)\n",
    "    for i in range(32):\n",
    "        lineStr = fr.readline()\n",
    "        for j in range(32):\n",
    "            returnVect[0,32*i+j]= int(lineStr[j])\n",
    "    return returnVect"
   ]
  },
  {
   "cell_type": "code",
   "execution_count": null,
   "id": "adf5c7b5",
   "metadata": {},
   "outputs": [],
   "source": [
    "testVect=img2vector('testDigits/0_0.txt')\n",
    "testVect[0,0:31]"
   ]
  },
  {
   "cell_type": "code",
   "execution_count": null,
   "id": "8f21f7f0",
   "metadata": {},
   "outputs": [],
   "source": [
    "def handWritingClassTest():\n",
    "    hwLabels = [] # 样本数据的类标签列表\n",
    "    trainingFileList = os.listdir('trainingDigits')  # 样本数据文件列表\n",
    "    m = len(trainingFileList)\n",
    "    print(\"trainingDigits has %d files\"%m)\n",
    "    trainingMat = zeros((m,1024)) # 初始化样本数据矩阵（M*1024）\n",
    "    # 依次读取所有样本数据到数据矩阵\n",
    "    for i in range(m):\n",
    "        fileNameStr = trainingFileList[i] # 提取文件名中的数字\n",
    "        fileStr = fileNameStr.split('.')[0]\n",
    "        classNumStr= int(fileStr.split('_')[0])\n",
    "        hwLabels.append(classNumStr)\n",
    "        # 将样本数据存入矩阵\n",
    "        trainingMat[i,:]=img2vector('./trainingDigits/%s'%fileNameStr)\n",
    "    testFileList=os.listdir('./testDigits') # 循环读取测试数据\n",
    "    errorCount = 0.0   # 初始化错误率\n",
    "    mTest = len(testFileList)\n",
    "    print(\"testDigits has %d files\"%mTest)\n",
    "    k=3\n",
    "    # 循环测试每个测试数据文件\n",
    "    for i in range(mTest):\n",
    "        fileNameStr = testFileList[i]\n",
    "        fileStr = fileNameStr.split('.')[0]\n",
    "        classNumStr= int(fileStr.split('_')[0])\n",
    "        # 提取数据向量\n",
    "        vectorUnderTest = img2vector('./testDigits/%s'%fileNameStr)\n",
    "        # 对数据文件进行分类\n",
    "        classifierResult=knn_W(vectorUnderTest,trainingMat,hwLabels,k)\n",
    "        # 打印 K 近邻算法分类结果和真实的分类\n",
    "        print('when the file is:%d,the k is:%d,the classifier came back with :%d,the real answer is:%d'%(i+1,k,classifierResult,classNumStr))\n",
    "         # 判断K 近邻算法结果是否准确\n",
    "        if (classifierResult != classNumStr):\n",
    "            errorCount += 1.0\n",
    "    #计算并打印错误率\n",
    "    print(\"the total number of errors is:%d\"%errorCount)\n",
    "    print(\"the total error rate is:%f\"%(errorCount/float(mTest)))\n",
    "    "
   ]
  },
  {
   "cell_type": "code",
   "execution_count": null,
   "id": "7eb370ab",
   "metadata": {},
   "outputs": [],
   "source": [
    "hwLabels = {} # 样本数据的类标签列表\n",
    "# trainingFileList = os.listdir('trainingDigits')  # 样本数据文件列表\n",
    "# m = len(trainingFileList)\n",
    "# print(\"trainingDigits has %d files\"%m)\n",
    "testFileList=os.listdir('./testDigits') # 循环读取测试数据\n",
    "m = len(testFileList)\n",
    "print(\"testDigits has %d files\"%m)\n",
    "for i in range(m):\n",
    "#         fileNameStr = trainingFileList[i] # 提取文件名中的数字\n",
    "        fileNameStr = testFileList[i] # 提取文件名中的数字\n",
    "        fileStr = fileNameStr.split('.')[0]\n",
    "        classNumStr= int(fileStr.split('_')[0])\n",
    "        if classNumStr not in hwLabels.keys():\n",
    "            hwLabels[classNumStr]=0\n",
    "        hwLabels[classNumStr]+=1\n",
    "print(hwLabels)"
   ]
  },
  {
   "cell_type": "code",
   "execution_count": null,
   "id": "aa46d1ac",
   "metadata": {},
   "outputs": [],
   "source": [
    "fr=open(\"./testDigits/%s\"%testFileList[0])\n",
    "line=fr.readlines()\n",
    "print(len(line))"
   ]
  },
  {
   "cell_type": "code",
   "execution_count": null,
   "id": "e6ca246c",
   "metadata": {
    "scrolled": false
   },
   "outputs": [],
   "source": [
    "handWritingClassTest()"
   ]
  },
  {
   "cell_type": "markdown",
   "id": "d3a763b4",
   "metadata": {},
   "source": [
    "### 线上交友"
   ]
  },
  {
   "cell_type": "markdown",
   "id": "48a50165",
   "metadata": {},
   "source": [
    "将文本记录到转换NumPy的解析程序"
   ]
  },
  {
   "cell_type": "code",
   "execution_count": null,
   "id": "d57119ae",
   "metadata": {},
   "outputs": [],
   "source": [
    "def file2matrix(filename):\n",
    "    fr = open(filename)\n",
    "    numberOfLines = len(fr.readlines()) #get the number of lines in the file\n",
    "    returnMat = zeros((numberOfLines,3))\n",
    "    #prepare matrix to return\n",
    "    classLabelVector = [] #prepare labels return\n",
    "    index = 0\n",
    "    fr=open(filename)\n",
    "    for line in fr.readlines():\n",
    "        line = line.strip() #remove off ‘\\n’\n",
    "        listFromLine = line.split('\\t')\n",
    "        returnMat[index,:] = listFromLine[0:3]\n",
    "        classLabelVector.append(int(listFromLine[-1])) #for datingTestSet.txt\n",
    "#         classLabelVector.append(listFromLine[-1])\n",
    "        index += 1\n",
    "    return returnMat,classLabelVector"
   ]
  },
  {
   "cell_type": "code",
   "execution_count": null,
   "id": "a8aaf13c",
   "metadata": {},
   "outputs": [],
   "source": [
    "datingDataMat,datingLabels = file2matrix('datingTestSet.txt')"
   ]
  },
  {
   "cell_type": "code",
   "execution_count": null,
   "id": "b9e1e924",
   "metadata": {},
   "outputs": [],
   "source": [
    "datingDataMat"
   ]
  },
  {
   "cell_type": "code",
   "execution_count": null,
   "id": "b9a19664",
   "metadata": {},
   "outputs": [],
   "source": [
    "datingLabels[0:20]"
   ]
  },
  {
   "cell_type": "markdown",
   "id": "47ee4e2e",
   "metadata": {},
   "source": [
    "### 创建散点图"
   ]
  },
  {
   "cell_type": "code",
   "execution_count": null,
   "id": "e4b1c6fe",
   "metadata": {},
   "outputs": [],
   "source": [
    "import matplotlib.pyplot as plt\n",
    "fig=plt.figure()\n",
    "plt.xlabel(\"每年获得的飞行常客里程数\")\n",
    "plt.ylabel(\"玩视频游戏所耗时间百分比\")\n",
    "# plt.xlabel(\"玩视频游戏所耗时间百分比\")\n",
    "# plt.ylabel(\"每周所消费的冰淇淋公升数\")\n",
    "ax = fig.add_subplot(1,1,1)\n",
    "# ax.scatter(datingDataMat[:,1],datingDataMat[:,2])\n",
    "ax.scatter(datingDataMat[:,0],datingDataMat[:,1],15.0*array(datingLabels),15*array(datingLabels))\n",
    "plt.show()"
   ]
  },
  {
   "cell_type": "code",
   "execution_count": null,
   "id": "a32dd65e",
   "metadata": {},
   "outputs": [],
   "source": [
    "datingDataMat, datingLabels = file2matrix('datingTestSet.txt')\n",
    "fig = plt.figure()\n",
    "ax = fig.add_subplot(111, projection='3d')\n",
    "num = len(datingDataMat)\n",
    "for i in range(num):\n",
    "    if datingLabels[i] == 1:\n",
    "        ax.scatter(datingDataMat[i][0], datingDataMat[i][1], datingDataMat[i][2], c='b', marker='x')\n",
    "    elif datingLabels[i] == 2:\n",
    "        ax.scatter(datingDataMat[i][0], datingDataMat[i][1], datingDataMat[i][2], c='r', marker='o')\n",
    "    elif datingLabels[i] == 3:\n",
    "        ax.scatter(datingDataMat[i][0], datingDataMat[i][1], datingDataMat[i][2], c='g', marker='*')\n",
    "plt.show()"
   ]
  },
  {
   "cell_type": "markdown",
   "id": "f79149b2",
   "metadata": {},
   "source": [
    "### 归一化数值\n",
    "newvalue = (oldvalue-min)/(max-min)"
   ]
  },
  {
   "cell_type": "code",
   "execution_count": null,
   "id": "706d1340",
   "metadata": {},
   "outputs": [],
   "source": [
    "def autoNorm(dataSet):\n",
    "    minVals = dataSet.min(0)  #按列求最小值\n",
    "    maxVals = dataSet.max(0)\n",
    "    ranges = maxVals - minVals\n",
    "    normDataSet = zeros(shape(dataSet))\n",
    "    m = dataSet.shape[0]\n",
    "    normDataSet = dataSet - tile(minVals, (m,1))\n",
    "    normDataSet = normDataSet/tile(ranges, (m,1))\n",
    "    #element wise divide\n",
    "    return normDataSet, ranges, minVals\n"
   ]
  },
  {
   "cell_type": "code",
   "execution_count": null,
   "id": "28ba8bb2",
   "metadata": {},
   "outputs": [],
   "source": [
    "normMat,ranges,minVals = autoNorm(datingDataMat)\n",
    "normMat"
   ]
  },
  {
   "cell_type": "code",
   "execution_count": null,
   "id": "93091353",
   "metadata": {},
   "outputs": [],
   "source": [
    "minVals,type(minVals)"
   ]
  },
  {
   "cell_type": "code",
   "execution_count": null,
   "id": "e8f8e3e3",
   "metadata": {},
   "outputs": [],
   "source": [
    "a=array([1000,10,0.5])\n",
    "minVals-a"
   ]
  },
  {
   "cell_type": "markdown",
   "id": "1c3b14e3",
   "metadata": {},
   "source": [
    "### 测试算法：作为完整程序验证分类器"
   ]
  },
  {
   "cell_type": "code",
   "execution_count": null,
   "id": "64385c11",
   "metadata": {},
   "outputs": [],
   "source": [
    "def datingClassTest():\n",
    "    hoRatio = 0.50 #hold out 10% 交叉验证\n",
    "    datingDataMat,datingLabels = file2matrix('datingTestSet.txt') #load data set from file\n",
    "    normMat, ranges, minVals = autoNorm(datingDataMat) #归一化\n",
    "    m = normMat.shape[0]\n",
    "    numTestVecs = int(m*hoRatio)\n",
    "    errorCount = 0.0\n",
    "    k=6\n",
    "    for i in range(numTestVecs):\n",
    "        classifierResult =knn_W(normMat[i,:],normMat[numTestVecs:m,:],datingLabels[numTestVecs:m],k)\n",
    "        print('the testdatasets is {},the k is {},the classifier came back with: {}, the real answer is:{}'.format(hoRatio,k,classifierResult, datingLabels[i]))\n",
    "        if (classifierResult != datingLabels[i]): \n",
    "            errorCount += 1.0 #计算分类错误率\n",
    "    print('the total error rate is: %f'%(errorCount/float(numTestVecs))) \n",
    "     "
   ]
  },
  {
   "cell_type": "code",
   "execution_count": null,
   "id": "df7ea439",
   "metadata": {
    "scrolled": true
   },
   "outputs": [],
   "source": [
    "datingClassTest()"
   ]
  },
  {
   "cell_type": "markdown",
   "id": "81f12121",
   "metadata": {},
   "source": [
    "### 使用算法：构建完整可用系统"
   ]
  },
  {
   "cell_type": "code",
   "execution_count": null,
   "id": "5c8e789e",
   "metadata": {},
   "outputs": [],
   "source": [
    "def classifyPerson():\n",
    "    ffMiles = float(input(\"frequent flier miles earned per year?\"))\n",
    "    percentTags = float(input(\"percentage of time spent playing video games?\"))\n",
    "    iceCreams = float(input(\"liters of ice cream consumed per year?\"))\n",
    "    datingDataMat,datingLabels = file2matrix('datingTestSet2.txt')\n",
    "    normMat,ranges,minVals = autoNorm(datingDataMat)\n",
    "    inArr = array([ffMiles,percentTags,iceCreams])\n",
    "    classifierResult = classify0((inArr-minVals)/ranges,normMat,datingLabels,4)\n",
    "    print(\"You probably like this person: in %s\"% classifierResult)"
   ]
  },
  {
   "cell_type": "code",
   "execution_count": null,
   "id": "3fbc094b",
   "metadata": {
    "scrolled": true
   },
   "outputs": [],
   "source": [
    "classifyPerson()"
   ]
  }
 ],
 "metadata": {
  "kernelspec": {
   "display_name": "Python 3 (ipykernel)",
   "language": "python",
   "name": "python3"
  },
  "language_info": {
   "codemirror_mode": {
    "name": "ipython",
    "version": 3
   },
   "file_extension": ".py",
   "mimetype": "text/x-python",
   "name": "python",
   "nbconvert_exporter": "python",
   "pygments_lexer": "ipython3",
   "version": "3.9.9"
  },
  "toc": {
   "base_numbering": 1,
   "nav_menu": {},
   "number_sections": true,
   "sideBar": true,
   "skip_h1_title": false,
   "title_cell": "Table of Contents",
   "title_sidebar": "Contents",
   "toc_cell": false,
   "toc_position": {
    "height": "calc(100% - 180px)",
    "left": "10px",
    "top": "150px",
    "width": "279.273px"
   },
   "toc_section_display": true,
   "toc_window_display": true
  }
 },
 "nbformat": 4,
 "nbformat_minor": 5
}
