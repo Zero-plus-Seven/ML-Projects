{
 "cells": [
  {
   "cell_type": "code",
   "execution_count": 3,
   "id": "859b1931",
   "metadata": {},
   "outputs": [
    {
     "name": "stdout",
     "output_type": "stream",
     "text": [
      "Using an SVM classifier.\n",
      "Accuracy on test data is: 9785 / 10000\n"
     ]
    }
   ],
   "source": [
    "\"\"\"\n",
    "mnist_svm\n",
    "~~~~~~~~~\n",
    "A classifier program for recognizing handwritten digits from the MNIST\n",
    "data set, using an SVM classifier.\"\"\"\n",
    "\n",
    "#### Libraries\n",
    "# My libraries\n",
    "import mnist_loader \n",
    "\n",
    "# Third-party libraries\n",
    "from sklearn import svm\n",
    "\n",
    "def svm_mnist():\n",
    "    training_data, validation_data, test_data = mnist_loader.load_data()\n",
    "    # train\n",
    "    clf = svm.SVC()\n",
    "    clf.fit(training_data[0], training_data[1])\n",
    "    # test\n",
    "    predictions = [int(a) for a in clf.predict(test_data[0])]\n",
    "    num_correct = sum(int(a == y) for a, y in zip(predictions, test_data[1]))\n",
    "    print(\"Using an SVM classifier.\")\n",
    "    print(\"Accuracy on test data is: {} / {}\".format(num_correct, len(test_data[1])))\n",
    "\n",
    "if __name__ == \"__main__\":\n",
    "    svm_mnist()"
   ]
  }
 ],
 "metadata": {
  "kernelspec": {
   "display_name": "Python 3 (ipykernel)",
   "language": "python",
   "name": "python3"
  },
  "language_info": {
   "codemirror_mode": {
    "name": "ipython",
    "version": 3
   },
   "file_extension": ".py",
   "mimetype": "text/x-python",
   "name": "python",
   "nbconvert_exporter": "python",
   "pygments_lexer": "ipython3",
   "version": "3.8.10"
  },
  "toc": {
   "base_numbering": 1,
   "nav_menu": {},
   "number_sections": true,
   "sideBar": true,
   "skip_h1_title": false,
   "title_cell": "Table of Contents",
   "title_sidebar": "Contents",
   "toc_cell": false,
   "toc_position": {},
   "toc_section_display": true,
   "toc_window_display": false
  }
 },
 "nbformat": 4,
 "nbformat_minor": 5
}
