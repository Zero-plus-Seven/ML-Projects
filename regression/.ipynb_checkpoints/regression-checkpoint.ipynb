{
 "cells": [
  {
   "cell_type": "markdown",
   "id": "bf83c0a2",
   "metadata": {},
   "source": [
    "## 用线性回归找到最佳拟合直线\n",
    "### 可视化数据集"
   ]
  },
  {
   "cell_type": "markdown",
   "id": "137a1d37",
   "metadata": {},
   "source": [
    "第一列都为1.0，即x0。第二列为x1，即x轴数据。第三列为x2，即y轴数据。首先绘制下数据，看下数据分布。"
   ]
  },
  {
   "cell_type": "code",
   "execution_count": 1,
   "id": "63754e35",
   "metadata": {},
   "outputs": [],
   "source": [
    "# -*- coding:utf-8 -*-\n",
    "import matplotlib.pyplot as plt\n",
    "import numpy as np\n",
    "\n",
    "\n",
    "def loadDataSet(fileName):\n",
    "    numFeat = len(open(fileName).readline().split('\\t')) - 1\n",
    "    xArr = []\n",
    "    yArr = []\n",
    "    fr = open(fileName)\n",
    "    for line in fr.readlines():\n",
    "        lineArr = []\n",
    "        curLine = line.strip().split('\\t')\n",
    "        for i in range(numFeat):\n",
    "            lineArr.append(float(curLine[i]))\n",
    "        xArr.append(lineArr)\n",
    "        yArr.append(float(curLine[-1]))\n",
    "    return xArr, yArr\n",
    "\n",
    "\n",
    "def plotDataSet():\n",
    "    xArr, yArr = loadDataSet('ex0.txt')  # 加载数据集\n",
    "    n = len(xArr)  # 数据个数\n",
    "    xcord = []\n",
    "    ycord = []  # 样本点\n",
    "    for i in range(n):\n",
    "        xcord.append(xArr[i][1])\n",
    "        ycord.append(yArr[i])  # 样本点\n",
    "    fig = plt.figure()\n",
    "    ax = fig.add_subplot(111)  # 添加subplot\n",
    "    ax.scatter(xcord, ycord, s=5, c='blue', alpha=.5)  # 绘制样本点\n",
    "    plt.title('DataSet')  # 绘制title\n",
    "    plt.xlabel('X')\n",
    "    plt.show()"
   ]
  },
  {
   "cell_type": "code",
   "execution_count": 2,
   "id": "f68c6a83",
   "metadata": {
    "scrolled": true
   },
   "outputs": [
    {
     "data": {
      "image/png": "[encoded data removed]",
      "text/plain": [
       "<Figure size 432x288 with 1 Axes>"
      ]
     },
     "metadata": {
      "needs_background": "light"
     },
     "output_type": "display_data"
    }
   ],
   "source": [
    "plotDataSet()"
   ]
  },
  {
   "cell_type": "markdown",
   "id": "9438f57f",
   "metadata": {},
   "source": [
    "### 绘出最佳拟合直线图"
   ]
  },
  {
   "cell_type": "markdown",
   "id": "2f8d7b26",
   "metadata": {},
   "source": [
    "根据上文中推导的回归系数计算方法，求出回归系数向量，并根据回归系数向量绘制回归曲线，编写代码如下："
   ]
  },
  {
   "attachments": {
    "image.png": {
     "image/png": "[encoded data removed]"
    }
   },
   "cell_type": "markdown",
   "id": "ff9f0949",
   "metadata": {},
   "source": [
    "![image.png](attachment:image.png)"
   ]
  },
  {
   "cell_type": "code",
   "execution_count": 3,
   "id": "29c7cef0",
   "metadata": {},
   "outputs": [],
   "source": [
    "def standRegres(xArr, yArr):\n",
    "    \"\"\"\n",
    "    函数说明:计算回归系数w\n",
    "    Parameters:\n",
    "        xArr - x数据集\n",
    "        yArr - y数据集\n",
    "    Returns:\n",
    "        ws - 回归系数\n",
    "    \"\"\"\n",
    "    xMat = np.mat(xArr)\n",
    "    yMat = np.mat(yArr).T\n",
    "    xTx = xMat.T * xMat  # 根据文中推导的公示计算回归系数\n",
    "    if np.linalg.det(xTx) == 0.0:\n",
    "        print(\"矩阵为奇异矩阵,不能求逆\")\n",
    "        return\n",
    "    ws = xTx.I * (xMat.T*yMat)\n",
    "    return ws\n",
    "\n",
    "\n",
    "def plotRegression():\n",
    "    \"\"\"\n",
    "    函数说明:绘制回归曲线和数据点\n",
    "    \"\"\"\n",
    "    xArr, yArr = loadDataSet('ex0.txt')  # 加载数据集\n",
    "    ws = standRegres(xArr, yArr)  # 计算回归系数\n",
    "    xMat = np.mat(xArr)  # 创建xMat矩阵\n",
    "    yMat = np.mat(yArr)  # 创建yMat矩阵\n",
    "    xCopy = xMat.copy()  # 深拷贝xMat矩阵\n",
    "    xCopy.sort(0)  # 排序\n",
    "    yHat = xCopy * ws  # 计算对应的y值\n",
    "    fig = plt.figure()\n",
    "    ax = fig.add_subplot(111)  # 添加subplot\n",
    "    ax.plot(xCopy[:, 1], yHat, c='red')  # 绘制回归曲线\n",
    "    ax.scatter(xMat[:, 1].flatten().A[0], yMat.flatten().A[0],\n",
    "               s=5, c='blue', alpha=.5)  # 绘制样本点\n",
    "    plt.title('DataSet')  # 绘制title\n",
    "    plt.xlabel('X')\n",
    "    plt.show()"
   ]
  },
  {
   "cell_type": "code",
   "execution_count": 4,
   "id": "85237ac3",
   "metadata": {
    "scrolled": true
   },
   "outputs": [
    {
     "data": {
      "image/png": "[encoded data removed]",
      "text/plain": [
       "<Figure size 432x288 with 1 Axes>"
      ]
     },
     "metadata": {
      "needs_background": "light"
     },
     "output_type": "display_data"
    }
   ],
   "source": [
    "plotRegression()"
   ]
  },
  {
   "cell_type": "markdown",
   "id": "afd3820a",
   "metadata": {},
   "source": [
    "### 计算相关系数"
   ]
  },
  {
   "cell_type": "code",
   "execution_count": 5,
   "id": "5477e66c",
   "metadata": {
    "scrolled": true
   },
   "outputs": [
    {
     "name": "stdout",
     "output_type": "stream",
     "text": [
      "[[1.         0.98647356]\n",
      " [0.98647356 1.        ]]\n"
     ]
    }
   ],
   "source": [
    "xArr, yArr = loadDataSet('ex0.txt')            #加载数据集\n",
    "ws = standRegres(xArr, yArr)           #计算回归系数\n",
    "xMat = np.mat(xArr)                   #创建xMat矩阵\n",
    "yMat = np.mat(yArr)            #创建yMat矩阵\n",
    "yHat = xMat * ws\n",
    "print(np.corrcoef(yHat.T, yMat))"
   ]
  },
  {
   "cell_type": "markdown",
   "id": "5affd8c6",
   "metadata": {},
   "source": [
    "## 局部加权线性回归"
   ]
  },
  {
   "attachments": {
    "image.png": {
     "image/png": "[encoded data removed]"
    }
   },
   "cell_type": "markdown",
   "id": "4a2c3e93",
   "metadata": {},
   "source": [
    "### LWLR算法\n",
    "![image.png](attachment:image.png)"
   ]
  },
  {
   "attachments": {
    "image.png": {
     "image/png": "[encoded data removed]"
    }
   },
   "cell_type": "markdown",
   "id": "aace6f74",
   "metadata": {},
   "source": [
    "LWLR使用\"核\"（与支持向量机中的核类似）来对附近的点赋予更高的权重。核的类型可以自由选择，最常用的核就是高斯核，高斯核对应的权重如下：\n",
    "高斯核：![image.png](attachment:image.png)"
   ]
  },
  {
   "cell_type": "code",
   "execution_count": 6,
   "id": "dfa1980f",
   "metadata": {},
   "outputs": [],
   "source": [
    "# -*- coding:utf-8 -*-\n",
    "from matplotlib.font_manager import FontProperties\n",
    "import matplotlib.pyplot as plt\n",
    "import numpy as np\n",
    "\n",
    "\n",
    "def lwlr(testPoint, xArr, yArr, k=1.0):\n",
    "    xMat = np.mat(xArr)\n",
    "    yMat = np.mat(yArr).T\n",
    "    m = np.shape(xMat)[0]\n",
    "    weights = np.mat(np.eye((m)))  # 创建权重对角矩阵\n",
    "    for j in range(m):  # 遍历数据集计算每个样本的权重\n",
    "        diffMat = testPoint - xMat[j, :]\n",
    "        weights[j, j] = np.exp(diffMat * diffMat.T/(-2.0 * k**2))\n",
    "    xTx = xMat.T * (weights * xMat)\n",
    "    if np.linalg.det(xTx) == 0.0:\n",
    "        print(\"矩阵为奇异矩阵,不能求逆\")\n",
    "        return\n",
    "    ws = xTx.I * (xMat.T * (weights * yMat))  # 计算回归系数\n",
    "    return testPoint * ws\n",
    "\n",
    "\n",
    "def lwlrTest(testArr, xArr, yArr, k=1.0):\n",
    "\n",
    "    m = np.shape(testArr)[0]  # 计算测试数据集大小\n",
    "    yHat = np.zeros(m)\n",
    "    for i in range(m):  # 对每个样本点进行预测\n",
    "        yHat[i] = lwlr(testArr[i], xArr, yArr, k)\n",
    "    return yHat"
   ]
  },
  {
   "cell_type": "code",
   "execution_count": 7,
   "id": "401d3913",
   "metadata": {},
   "outputs": [
    {
     "data": {
      "text/plain": [
       "matrix([[3.12204471]])"
      ]
     },
     "execution_count": 7,
     "metadata": {},
     "output_type": "execute_result"
    }
   ],
   "source": [
    "lwlr(xArr[0],xArr,yArr,1.0)"
   ]
  },
  {
   "cell_type": "code",
   "execution_count": 8,
   "id": "47733aba",
   "metadata": {
    "scrolled": true
   },
   "outputs": [
    {
     "data": {
      "text/plain": [
       "matrix([[3.20175729]])"
      ]
     },
     "execution_count": 8,
     "metadata": {},
     "output_type": "execute_result"
    }
   ],
   "source": [
    "lwlr(xArr[0],xArr,yArr,0.001)"
   ]
  },
  {
   "cell_type": "markdown",
   "id": "25985726",
   "metadata": {},
   "source": [
    "### 绘图"
   ]
  },
  {
   "cell_type": "code",
   "execution_count": 9,
   "id": "363d4805",
   "metadata": {},
   "outputs": [],
   "source": [
    "def plotlwlrRegression():\n",
    "    font = FontProperties(fname=r\"c:\\windows\\fonts\\simsun.ttc\", size=20)\n",
    "    xArr, yArr = loadDataSet('ex0.txt')\n",
    "    yHat_1 = lwlrTest(xArr, xArr, yArr, 1.0)\n",
    "    yHat_2 = lwlrTest(xArr, xArr, yArr, 0.01)\n",
    "    yHat_3 = lwlrTest(xArr, xArr, yArr, 0.003)\n",
    "    xMat = np.mat(xArr)  # 创建xMat矩阵\n",
    "    yMat = np.mat(yArr)  # 创建yMat矩阵\n",
    "    srtInd = xMat[:, 1].argsort(0)  # 排序，返回索引值\n",
    "    xSort = xMat[srtInd][:, 0, :]\n",
    "    fig, axs = plt.subplots(nrows=3, ncols=1, sharex=False,\n",
    "                            sharey=False, figsize=(8, 8))\n",
    "    axs[0].plot(xSort[:, 1], yHat_1[srtInd], c='r')\n",
    "    axs[1].plot(xSort[:, 1], yHat_2[srtInd], c='r')\n",
    "    axs[2].plot(xSort[:, 1], yHat_3[srtInd], c='r')\n",
    "    axs[0].scatter(xMat[:, 1].flatten().A[0], yMat.flatten().A[0],\n",
    "                   s=5, c='blue', alpha=.5)\n",
    "    axs[1].scatter(xMat[:, 1].flatten().A[0], yMat.flatten().A[0],\n",
    "                   s=5, c='blue', alpha=.5)\n",
    "    axs[2].scatter(xMat[:, 1].flatten().A[0], yMat.flatten().A[0],\n",
    "                   s=5, c='blue', alpha=.5)  # 绘制样本点\n",
    "    # 设置标题,x轴label,y轴label\n",
    "    axs0_title_text = axs[0].set_title(u'局部加权回归曲线,k=1.0', FontProperties=font)\n",
    "    axs1_title_text = axs[1].set_title(u'局部加权回归曲线,k=0.01', FontProperties=font)\n",
    "    axs2_title_text = axs[2].set_title(\n",
    "        u'局部加权回归曲线,k=0.003', FontProperties=font)\n",
    "    plt.setp(axs0_title_text, size=8, weight='bold', color='red')\n",
    "    plt.setp(axs1_title_text, size=8, weight='bold', color='red')\n",
    "    plt.setp(axs2_title_text, size=8, weight='bold', color='red')\n",
    "    plt.xlabel('X')\n",
    "    plt.show()"
   ]
  },
  {
   "cell_type": "code",
   "execution_count": 10,
   "id": "1fbc2ca6",
   "metadata": {},
   "outputs": [
    {
     "name": "stderr",
     "output_type": "stream",
     "text": [
      "C:\\Users\\Zero\\AppData\\Local\\Temp/ipykernel_6232/3471826219.py:23: MatplotlibDeprecationWarning: Case-insensitive properties were deprecated in 3.3 and support will be removed two minor releases later\n",
      "  axs0_title_text = axs[0].set_title(u'局部加权回归曲线,k=1.0', FontProperties=font)\n",
      "C:\\Users\\Zero\\AppData\\Local\\Temp/ipykernel_6232/3471826219.py:24: MatplotlibDeprecationWarning: Case-insensitive properties were deprecated in 3.3 and support will be removed two minor releases later\n",
      "  axs1_title_text = axs[1].set_title(u'局部加权回归曲线,k=0.01', FontProperties=font)\n",
      "C:\\Users\\Zero\\AppData\\Local\\Temp/ipykernel_6232/3471826219.py:25: MatplotlibDeprecationWarning: Case-insensitive properties were deprecated in 3.3 and support will be removed two minor releases later\n",
      "  axs2_title_text = axs[2].set_title(\n"
     ]
    },
    {
     "data": {
      "image/png": "[encoded data removed]",
      "text/plain": [
       "<Figure size 576x576 with 3 Axes>"
      ]
     },
     "metadata": {
      "needs_background": "light"
     },
     "output_type": "display_data"
    }
   ],
   "source": [
    "plotlwlrRegression()"
   ]
  },
  {
   "cell_type": "markdown",
   "id": "f4759651",
   "metadata": {},
   "source": [
    "可以看到，当k越小，拟合效果越好。但是当k过小，会出现过拟合的情况，例如k等于0.003的时候。"
   ]
  },
  {
   "cell_type": "markdown",
   "id": "4e02ce1e",
   "metadata": {},
   "source": [
    "## 预测鲍鱼的年龄"
   ]
  },
  {
   "cell_type": "code",
   "execution_count": 11,
   "id": "c859ad0f",
   "metadata": {},
   "outputs": [],
   "source": [
    "# -*- coding:utf-8 -*-\n",
    "from matplotlib.font_manager import FontProperties\n",
    "import matplotlib.pyplot as plt\n",
    "import numpy as np\n",
    "\n",
    "\n",
    "def rssError(yArr, yHatArr):\n",
    "    return ((yArr - yHatArr) ** 2).sum()"
   ]
  },
  {
   "cell_type": "code",
   "execution_count": 12,
   "id": "34f5a72f",
   "metadata": {},
   "outputs": [
    {
     "name": "stdout",
     "output_type": "stream",
     "text": [
      "训练集与测试集相同:局部加权线性回归,核k的大小对预测的影响:\n",
      "k=0.1时,误差大小为: 56.78868743050092\n",
      "k=1  时,误差大小为: 429.89056187038\n",
      "k=10 时,误差大小为: 549.1181708827924\n",
      "\n",
      "训练集与测试集不同:局部加权线性回归,核k的大小对预测的影响:\n",
      "k=0.1时,误差大小为: 57913.51550155911\n",
      "k=1  时,误差大小为: 573.5261441895982\n",
      "k=10 时,误差大小为: 517.5711905381903\n",
      "\n",
      "训练集与测试集不同:简单的线性回归与k=1时的局部加权线性回归对比:\n",
      "k=1时,\n",
      "局部加权线性回归误差大小为: 573.5261441895982\n",
      "简单的线性回归误差大小: 518.6363153245542\n"
     ]
    }
   ],
   "source": [
    "abX, abY = loadDataSet('abalone.txt')\n",
    "print('训练集与测试集相同:局部加权线性回归,核k的大小对预测的影响:')\n",
    "yHat01 = lwlrTest(abX[0:99], abX[0:99], abY[0:99], 0.1)\n",
    "yHat1 = lwlrTest(abX[0:99], abX[0:99], abY[0:99], 1)\n",
    "yHat10 = lwlrTest(abX[0:99], abX[0:99], abY[0:99], 10)\n",
    "print('k=0.1时,误差大小为:', rssError(abY[0:99], yHat01.T))\n",
    "print('k=1  时,误差大小为:', rssError(abY[0:99], yHat1.T))\n",
    "print('k=10 时,误差大小为:', rssError(abY[0:99], yHat10.T))\n",
    "print('')\n",
    "print('训练集与测试集不同:局部加权线性回归,核k的大小对预测的影响:')\n",
    "yHat01 = lwlrTest(abX[100:199], abX[0:99], abY[0:99], 0.1)\n",
    "yHat1 = lwlrTest(abX[100:199], abX[0:99], abY[0:99], 1)\n",
    "yHat10 = lwlrTest(abX[100:199], abX[0:99], abY[0:99], 10)\n",
    "print('k=0.1时,误差大小为:', rssError(abY[100:199], yHat01.T))\n",
    "print('k=1  时,误差大小为:', rssError(abY[100:199], yHat1.T))\n",
    "print('k=10 时,误差大小为:', rssError(abY[100:199], yHat10.T))\n",
    "print('')\n",
    "print('训练集与测试集不同:简单的线性回归与k=1时的局部加权线性回归对比:')\n",
    "print('k=1时,')\n",
    "print('局部加权线性回归误差大小为:', rssError(abY[100:199], yHat1.T))\n",
    "ws = standRegres(abX[0:99], abY[0:99])\n",
    "yHat = np.mat(abX[100:199]) * ws\n",
    "print('简单的线性回归误差大小:', rssError(abY[100:199], yHat.T.A))"
   ]
  },
  {
   "cell_type": "markdown",
   "id": "93dea40f",
   "metadata": {},
   "source": [
    "可以看到，当k=0.1时，训练集误差小，但是应用于新的数据集之后，误差反而变大了。这就是经常说到的过拟合现象。我们训练的模型，我们要保证测试集准确率高，这样训练出的模型才可以应用于新的数据，也就是要加强模型的普适性。可以看到，当k=1时，局部加权线性回归和简单的线性回归得到的效果差不多。这也表明一点，必须在未知数据上比较效果才能选取到最佳模型。那么最佳的核大小是10吗？或许是，但如果想得到更好的效果，应该用10个不同的样本集做10次测试来比较结果。\n",
    "\n",
    "本示例展示了如何使用局部加权线性回归来构建模型，可以得到比普通线性回归更好的效果。局部加权线性回归的问题在于，每次必须在整个数据集上运行。也就是说为了做出预测，必须保存所有的训练数据。"
   ]
  },
  {
   "cell_type": "markdown",
   "id": "2e165de0",
   "metadata": {},
   "source": [
    "## 岭回归"
   ]
  },
  {
   "attachments": {
    "image-2.png": {
     "image/png": "[encoded data removed]"
    },
    "image.png": {
     "image/png": "[encoded data removed]"
    }
   },
   "cell_type": "markdown",
   "id": "d07d6c5c",
   "metadata": {},
   "source": [
    "岭回归即L2正则线性回归，公式：\n",
    "![image.png](attachment:image.png)\n",
    "简单说来，岭回归就是在普通线性回归的基础上引入单位矩阵。回归系数的计算公式变形如下：\n",
    "![image-2.png](attachment:image-2.png)"
   ]
  },
  {
   "cell_type": "markdown",
   "id": "6b28591e",
   "metadata": {},
   "source": [
    "### 特征标准化\n",
    "将所有特征都减去各自的均值并除以方差。"
   ]
  },
  {
   "cell_type": "code",
   "execution_count": 13,
   "id": "47cdfd71",
   "metadata": {},
   "outputs": [],
   "source": [
    "def ridgeRegres(xMat, yMat, lam=0.2):\n",
    "    \"\"\"\n",
    "    函数说明:岭回归\n",
    "    Parameters:\n",
    "        xMat - x数据集\n",
    "        yMat - y数据集\n",
    "        lam - 缩减系数\n",
    "    Returns:\n",
    "        ws - 回归系数\n",
    "    \"\"\"\n",
    "    xTx = xMat.T * xMat\n",
    "    denom = xTx + np.eye(np.shape(xMat)[1]) * lam\n",
    "    if np.linalg.det(denom) == 0.0:\n",
    "        print(\"矩阵为奇异矩阵,不能转置\")\n",
    "        return\n",
    "    ws = denom.I * (xMat.T * yMat)\n",
    "    return ws\n",
    "\n",
    "\n",
    "def ridgeTest(xArr, yArr):\n",
    "    \"\"\"\n",
    "    函数说明:岭回归测试\n",
    "    Parameters:\n",
    "        xMat - x数据集\n",
    "        yMat - y数据集\n",
    "    Returns:\n",
    "        wMat - 回归系数矩阵\n",
    "    \"\"\"\n",
    "    xMat = np.mat(xArr)\n",
    "    yMat = np.mat(yArr).T\n",
    "    # 数据标准化\n",
    "    yMean = np.mean(yMat, axis=0)  # 行与行操作，求均值\n",
    "    yMat = yMat - yMean  # 数据减去均值\n",
    "    xMeans = np.mean(xMat, axis=0)  # 行与行操作，求均值\n",
    "    xVar = np.var(xMat, axis=0)  # 行与行操作，求方差\n",
    "    xMat = (xMat - xMeans) / xVar  # 数据减去均值除以方差实现标准化\n",
    "    numTestPts = 30  # 30个不同的lambda测试\n",
    "    wMat = np.zeros((numTestPts, np.shape(xMat)[1]))  # 初始回归系数矩阵\n",
    "    for i in range(numTestPts):  # 改变lambda计算回归系数\n",
    "        # lambda以e的指数变化，最初是一个非常小的数，\n",
    "        ws = ridgeRegres(xMat, yMat, np.exp(i - 10))\n",
    "        wMat[i, :] = ws.T  # 计算回归系数矩阵\n",
    "    return wMat"
   ]
  },
  {
   "cell_type": "markdown",
   "id": "8737b1a9",
   "metadata": {},
   "source": [
    "### 绘制岭回归系数矩阵"
   ]
  },
  {
   "cell_type": "code",
   "execution_count": 14,
   "id": "6f83f9ad",
   "metadata": {},
   "outputs": [],
   "source": [
    "def plotwMat():\n",
    "    font = FontProperties(fname=r\"c:\\windows\\fonts\\simsun.ttc\", size=14)\n",
    "    abX, abY = loadDataSet('abalone.txt')\n",
    "    redgeWeights = ridgeTest(abX, abY)\n",
    "    fig = plt.figure()\n",
    "    ax = fig.add_subplot(111)\n",
    "    ax.plot(redgeWeights)\n",
    "    ax_title_text = ax.set_title(u'log(λ)与回归系数的关系', FontProperties=font)\n",
    "    ax_xlabel_text = ax.set_xlabel(u'log(λ)', FontProperties=font)\n",
    "    ax_ylabel_text = ax.set_ylabel(u'回归系数', FontProperties=font)\n",
    "    plt.setp(ax_title_text, size=15, weight='bold', color='black')\n",
    "    plt.setp(ax_xlabel_text, size=10, weight='bold', color='black')\n",
    "    plt.setp(ax_ylabel_text, size=10, weight='bold', color='black')\n",
    "    plt.show()"
   ]
  },
  {
   "cell_type": "code",
   "execution_count": 15,
   "id": "79eb96dd",
   "metadata": {},
   "outputs": [
    {
     "name": "stderr",
     "output_type": "stream",
     "text": [
      "C:\\Users\\Zero\\AppData\\Local\\Temp/ipykernel_6232/203757709.py:8: MatplotlibDeprecationWarning: Case-insensitive properties were deprecated in 3.3 and support will be removed two minor releases later\n",
      "  ax_title_text = ax.set_title(u'log(λ)与回归系数的关系', FontProperties=font)\n",
      "C:\\Users\\Zero\\AppData\\Local\\Temp/ipykernel_6232/203757709.py:9: MatplotlibDeprecationWarning: Case-insensitive properties were deprecated in 3.3 and support will be removed two minor releases later\n",
      "  ax_xlabel_text = ax.set_xlabel(u'log(λ)', FontProperties=font)\n",
      "C:\\Users\\Zero\\AppData\\Local\\Temp/ipykernel_6232/203757709.py:10: MatplotlibDeprecationWarning: Case-insensitive properties were deprecated in 3.3 and support will be removed two minor releases later\n",
      "  ax_ylabel_text = ax.set_ylabel(u'回归系数', FontProperties=font)\n"
     ]
    },
    {
     "data": {
      "image/png": "[encoded data removed]",
      "text/plain": [
       "<Figure size 432x288 with 1 Axes>"
      ]
     },
     "metadata": {
      "needs_background": "light"
     },
     "output_type": "display_data"
    }
   ],
   "source": [
    "plotwMat()"
   ]
  },
  {
   "cell_type": "markdown",
   "id": "23ee09bb",
   "metadata": {},
   "source": [
    "在最左边，即λ最小时，可以得到所有系数的原始值（与线性回归一致）；而在右边，系数全部缩减成0；在中间部分的某个位置，将会得到最好的预测结果。"
   ]
  },
  {
   "cell_type": "markdown",
   "id": "ebc9d32e",
   "metadata": {},
   "source": [
    "## 前向逐步线性回归"
   ]
  },
  {
   "cell_type": "markdown",
   "id": "66ca789f",
   "metadata": {},
   "source": [
    "前向逐步线性回归算法属于一种贪心算法，即每一步都尽可能减少误差。我们计算回归系数，不再是通过公式计算，而是通过每次微调各个回归系数，然后计算预测误差。那个使误差最小的一组回归系数，就是我们需要的最佳回归系数。"
   ]
  },
  {
   "cell_type": "code",
   "execution_count": 16,
   "id": "37a9e8f5",
   "metadata": {},
   "outputs": [],
   "source": [
    "def regularize(xMat, yMat):\n",
    "    inxMat = xMat.copy()  # 数据拷贝\n",
    "    inyMat = yMat.copy()\n",
    "    yMean = np.mean(yMat, 0)  # 行与行操作，求均值\n",
    "    inyMat = yMat - yMean  # 数据减去均值\n",
    "    inMeans = np.mean(inxMat, 0)  # 行与行操作，求均值\n",
    "    inVar = np.var(inxMat, 0)  # 行与行操作，求方差\n",
    "    inxMat = (inxMat - inMeans) / inVar  # 数据减去均值除以方差实现标准化\n",
    "    return inxMat, inyMat\n",
    "\n",
    "\n",
    "def rssError(yArr, yHatArr):\n",
    "    return ((yArr-yHatArr)**2).sum()\n",
    "\n",
    "\n",
    "def stageWise(xArr, yArr, eps=0.01, numIt=100):\n",
    "    \"\"\"\n",
    "    函数说明:前向逐步线性回归\n",
    "    Parameters:\n",
    "        xArr - x输入数据\n",
    "        yArr - y预测数据\n",
    "        eps - 每次迭代需要调整的步长\n",
    "        numIt - 迭代次数\n",
    "    Returns:\n",
    "        returnMat - numIt次迭代的回归系数矩阵\n",
    "    \"\"\"\n",
    "    xMat = np.mat(xArr)\n",
    "    yMat = np.mat(yArr).T  # 数据集\n",
    "    xMat, yMat = regularize(xMat, yMat)  # 数据标准化\n",
    "    m, n = np.shape(xMat)\n",
    "    returnMat = np.zeros((numIt, n))  # 初始化numIt次迭代的回归系数矩阵\n",
    "    ws = np.zeros((n, 1))  # 初始化回归系数矩阵\n",
    "    wsTest = ws.copy()\n",
    "    wsMax = ws.copy()\n",
    "    for i in range(numIt):  \n",
    "#         print(ws.T)\n",
    "        lowestError = float('inf')  \n",
    "        for j in range(n):  # 遍历每个特征的回归系数\n",
    "            for sign in [-1, 1]:\n",
    "                wsTest = ws.copy()\n",
    "                wsTest[j] += eps * sign  # 微调回归系数\n",
    "                yTest = xMat * wsTest  # 计算预测值\n",
    "                rssE = rssError(yMat.A, yTest.A)  # 计算平方误差\n",
    "                if rssE < lowestError:  # 如果误差更小，则更新当前的最佳回归系数\n",
    "                    lowestError = rssE\n",
    "                    wsMax = wsTest\n",
    "        ws = wsMax.copy()\n",
    "        returnMat[i, :] = ws.T  # 记录numIt次迭代的回归系数矩阵\n",
    "    return returnMat\n",
    "\n",
    "\n",
    "def plotstageWiseMat():\n",
    "    font = FontProperties(fname=r\"c:\\windows\\fonts\\simsun.ttc\", size=14)\n",
    "    xArr, yArr = loadDataSet('abalone.txt')\n",
    "    returnMat = stageWise(xArr, yArr, 0.005, 1000)\n",
    "    fig = plt.figure()\n",
    "    ax = fig.add_subplot(111)\n",
    "    ax.plot(returnMat)\n",
    "    ax_title_text = ax.set_title(u'前向逐步回归:迭代次数与回归系数的关系', FontProperties=font)\n",
    "    ax_xlabel_text = ax.set_xlabel(u'迭代次数', FontProperties=font)\n",
    "    ax_ylabel_text = ax.set_ylabel(u'回归系数', FontProperties=font)\n",
    "    plt.setp(ax_title_text, size=15, weight='bold', color='r')\n",
    "    plt.setp(ax_xlabel_text, size=10, weight='bold', color='black')\n",
    "    plt.setp(ax_ylabel_text, size=10, weight='bold', color='black')\n",
    "    plt.show()"
   ]
  },
  {
   "cell_type": "code",
   "execution_count": 17,
   "id": "7814bb95",
   "metadata": {},
   "outputs": [
    {
     "data": {
      "text/plain": [
       "array([[ 0.  ,  0.  ,  0.  , ...,  0.  ,  0.  ,  0.  ],\n",
       "       [ 0.  ,  0.  ,  0.  , ...,  0.  ,  0.  ,  0.  ],\n",
       "       [ 0.  ,  0.  ,  0.  , ...,  0.  ,  0.  ,  0.  ],\n",
       "       ...,\n",
       "       [ 0.05,  0.  ,  0.09, ..., -0.64,  0.  ,  0.36],\n",
       "       [ 0.04,  0.  ,  0.09, ..., -0.64,  0.  ,  0.36],\n",
       "       [ 0.05,  0.  ,  0.09, ..., -0.64,  0.  ,  0.36]])"
      ]
     },
     "execution_count": 17,
     "metadata": {},
     "output_type": "execute_result"
    }
   ],
   "source": [
    "xArr, yArr = loadDataSet('abalone.txt')\n",
    "stageWise(xArr, yArr, 0.01, 200)"
   ]
  },
  {
   "cell_type": "markdown",
   "id": "98a8887f",
   "metadata": {},
   "source": [
    "w1和w6都是0，表示它们对目标值不造成影响"
   ]
  },
  {
   "cell_type": "code",
   "execution_count": 18,
   "id": "1e9b8ee1",
   "metadata": {},
   "outputs": [
    {
     "data": {
      "text/plain": [
       "array([[ 0.   ,  0.   ,  0.   , ...,  0.   ,  0.   ,  0.   ],\n",
       "       [ 0.   ,  0.   ,  0.   , ...,  0.   ,  0.   ,  0.   ],\n",
       "       [ 0.   ,  0.   ,  0.   , ...,  0.   ,  0.   ,  0.   ],\n",
       "       ...,\n",
       "       [ 0.043, -0.011,  0.12 , ..., -0.963, -0.105,  0.187],\n",
       "       [ 0.044, -0.011,  0.12 , ..., -0.963, -0.105,  0.187],\n",
       "       [ 0.043, -0.011,  0.12 , ..., -0.963, -0.105,  0.187]])"
      ]
     },
     "execution_count": 18,
     "metadata": {},
     "output_type": "execute_result"
    }
   ],
   "source": [
    "stageWise(xArr, yArr, 0.001, 5000)"
   ]
  },
  {
   "cell_type": "code",
   "execution_count": 19,
   "id": "733759a4",
   "metadata": {},
   "outputs": [
    {
     "name": "stderr",
     "output_type": "stream",
     "text": [
      "C:\\Users\\Zero\\AppData\\Local\\Temp/ipykernel_6232/1969340650.py:59: MatplotlibDeprecationWarning: Case-insensitive properties were deprecated in 3.3 and support will be removed two minor releases later\n",
      "  ax_title_text = ax.set_title(u'前向逐步回归:迭代次数与回归系数的关系', FontProperties=font)\n",
      "C:\\Users\\Zero\\AppData\\Local\\Temp/ipykernel_6232/1969340650.py:60: MatplotlibDeprecationWarning: Case-insensitive properties were deprecated in 3.3 and support will be removed two minor releases later\n",
      "  ax_xlabel_text = ax.set_xlabel(u'迭代次数', FontProperties=font)\n",
      "C:\\Users\\Zero\\AppData\\Local\\Temp/ipykernel_6232/1969340650.py:61: MatplotlibDeprecationWarning: Case-insensitive properties were deprecated in 3.3 and support will be removed two minor releases later\n",
      "  ax_ylabel_text = ax.set_ylabel(u'回归系数', FontProperties=font)\n"
     ]
    },
    {
     "data": {
      "image/png": "[encoded data removed]",
      "text/plain": [
       "<Figure size 432x288 with 1 Axes>"
      ]
     },
     "metadata": {
      "needs_background": "light"
     },
     "output_type": "display_data"
    }
   ],
   "source": [
    "plotstageWiseMat()"
   ]
  },
  {
   "cell_type": "markdown",
   "id": "8701349a",
   "metadata": {},
   "source": [
    "可以看到，有些系数从始至终都是约为0的，这说明它们不对目标造成任何影响，也就是说这些特征很可能是不需要的。逐步线性回归算法的优点在于它可以帮助人们理解有的模型并做出改进。当构建了一个模型后，可以运行该算法找出重要的特征，这样就有可能及时停止对那些不重要特征的收集。"
   ]
  },
  {
   "cell_type": "markdown",
   "id": "172d7160",
   "metadata": {},
   "source": [
    "## 预测乐高玩具套件的价格"
   ]
  },
  {
   "cell_type": "markdown",
   "id": "64b7250e",
   "metadata": {},
   "source": [
    "### 收集数据"
   ]
  },
  {
   "cell_type": "code",
   "execution_count": 20,
   "id": "1b128468",
   "metadata": {
    "code_folding": []
   },
   "outputs": [],
   "source": [
    "from bs4 import BeautifulSoup\n",
    "\n",
    "\n",
    "def scrapePage(retX, retY, inFile, yr, numPce, origPrc):\n",
    "    \"\"\"\n",
    "    函数说明:从页面读取数据，生成retX和retY列表\n",
    "    Parameters:\n",
    "        retX - 数据X\n",
    "        retY - 数据Y\n",
    "        inFile - HTML文件\n",
    "        yr - 年份\n",
    "        numPce - 乐高部件数目\n",
    "        origPrc - 原价\n",
    "    \"\"\"\n",
    "    # 打开并读取HTML文件\n",
    "    with open(inFile, encoding='utf-8') as f:\n",
    "        html = f.read()\n",
    "    soup = BeautifulSoup(html)\n",
    "    i = 1\n",
    "    # 根据HTML页面结构进行解析\n",
    "    currentRow = soup.find_all('table', r=\"%d\" % i)\n",
    "    while(len(currentRow) != 0):\n",
    "        currentRow = soup.find_all('table', r=\"%d\" % i)\n",
    "        title = currentRow[0].find_all('a')[1].text\n",
    "        lwrTitle = title.lower()\n",
    "        # 查找是否有全新标签\n",
    "        if (lwrTitle.find('new') > -1) or (lwrTitle.find('nisb') > -1):\n",
    "            newFlag = 1.0\n",
    "        else:\n",
    "            newFlag = 0.0\n",
    "        # 查找是否已经标志出售，我们只收集已出售的数据\n",
    "        soldUnicde = currentRow[0].find_all('td')[3].find_all('span')\n",
    "        if len(soldUnicde) == 0:\n",
    "            print(\"The goods %d are not on sale \" % i)\n",
    "        else:\n",
    "            # 解析页面获取当前价格\n",
    "            soldPrice = currentRow[0].find_all('td')[4]\n",
    "            priceStr = soldPrice.text\n",
    "            priceStr = priceStr.replace('$', '')\n",
    "            priceStr = priceStr.replace(',', '')\n",
    "            if len(soldPrice) > 1:\n",
    "                priceStr = priceStr.replace('Free shipping', '')\n",
    "            sellingPrice = float(priceStr)\n",
    "            # 过滤掉不完整的套装\n",
    "            if sellingPrice > origPrc * 0.5:\n",
    "                print(\"%d\\t%d\\t%d\\t%f\\t%f\" %\n",
    "                      (yr, numPce, newFlag, origPrc, sellingPrice))\n",
    "                retX.append([yr, numPce, newFlag, origPrc])\n",
    "                retY.append(sellingPrice)\n",
    "        i += 1\n",
    "        currentRow = soup.find_all('table', r=\"%d\" % i)\n",
    "\n",
    "\n",
    "def setDataCollect(retX, retY):\n",
    "    \"\"\"\n",
    "    函数说明:依次读取六种乐高套装的数据，并生成数据矩阵\n",
    "    \"\"\"\n",
    "    scrapePage(retX, retY, './setHtml/lego8288.html', 2006,\n",
    "               800, 49.99)\n",
    "    scrapePage(retX, retY, './setHtml/lego10030.html', 2002,\n",
    "               3096, 269.99)\n",
    "    scrapePage(retX, retY, './setHtml/lego10179.html', 2007,\n",
    "               5195, 499.99)\n",
    "    scrapePage(retX, retY, './setHtml/lego10181.html', 2007,\n",
    "               3428, 199.99)\n",
    "    scrapePage(retX, retY, './setHtml/lego10189.html', 2008,\n",
    "               5922, 299.99)\n",
    "    scrapePage(retX, retY, './setHtml/lego10196.html', 2009,\n",
    "               3263, 249.99)"
   ]
  },
  {
   "cell_type": "code",
   "execution_count": 21,
   "id": "14a3b500",
   "metadata": {
    "code_folding": [],
    "scrolled": true
   },
   "outputs": [],
   "source": [
    "# lgX = []\n",
    "# lgY = []\n",
    "# setDataCollect(lgX, lgY)\n",
    "# print(np.shape(lgX),np.shape(lgY))"
   ]
  },
  {
   "cell_type": "markdown",
   "id": "b0f4056b",
   "metadata": {},
   "source": [
    "### 训练算法：建立模型"
   ]
  },
  {
   "cell_type": "code",
   "execution_count": 22,
   "id": "a5865937",
   "metadata": {},
   "outputs": [
    {
     "data": {
      "text/plain": [
       "(63, 4)"
      ]
     },
     "execution_count": 22,
     "metadata": {},
     "output_type": "execute_result"
    }
   ],
   "source": [
    "lgX,lgY=loadDataSet('./lego.txt')\n",
    "np.shape(lgX)"
   ]
  },
  {
   "cell_type": "code",
   "execution_count": 23,
   "id": "6dc56343",
   "metadata": {},
   "outputs": [
    {
     "data": {
      "text/plain": [
       "([2006.0, 800.0, 0.0, 49.99],\n",
       " matrix([[1.000e+00, 2.006e+03, 8.000e+02, 0.000e+00, 4.999e+01]]))"
      ]
     },
     "execution_count": 23,
     "metadata": {},
     "output_type": "execute_result"
    }
   ],
   "source": [
    "lgX1=np.mat(np.ones((63,5)))\n",
    "lgX1[:,1:5]=np.mat(lgX) #在第0列加上1\n",
    "lgX[0],lgX1[0]"
   ]
  },
  {
   "cell_type": "code",
   "execution_count": 24,
   "id": "4965609a",
   "metadata": {},
   "outputs": [
    {
     "data": {
      "text/plain": [
       "matrix([[ 5.53199701e+04],\n",
       "        [-2.75928219e+01],\n",
       "        [-2.68392234e-02],\n",
       "        [-1.12208481e+01],\n",
       "        [ 2.57604055e+00]])"
      ]
     },
     "execution_count": 24,
     "metadata": {},
     "output_type": "execute_result"
    }
   ],
   "source": [
    "ws=standRegres(lgX1,lgY)\n",
    "ws"
   ]
  },
  {
   "cell_type": "code",
   "execution_count": 25,
   "id": "b7ec0658",
   "metadata": {},
   "outputs": [
    {
     "data": {
      "text/plain": [
       "(matrix([[76.07418864]]), matrix([[431.17797682]]), matrix([[516.20733116]]))"
      ]
     },
     "execution_count": 25,
     "metadata": {},
     "output_type": "execute_result"
    }
   ],
   "source": [
    "lgX1[0]*ws,lgX1[-1]*ws,lgX1[43]*ws"
   ]
  },
  {
   "cell_type": "markdown",
   "id": "ceaee40f",
   "metadata": {},
   "source": [
    "### 交叉验证处理岭回归"
   ]
  },
  {
   "cell_type": "code",
   "execution_count": 48,
   "id": "9b2bc5cd",
   "metadata": {},
   "outputs": [],
   "source": [
    "def crossValidation(xArr, yArr, numVal = 10):\n",
    "   \n",
    "    m = len(yArr)       #统计样本个数                       \n",
    "    indexList = list(range(m))       #生成索引值列表\n",
    "    errorMat = np.zeros((numVal,30))  #create error mat 30columns numVal rows\n",
    "    for i in range(numVal):       #交叉验证numVal次\n",
    "        trainX = []; trainY = []   #训练集\n",
    "        testX = []; testY = []   #测试集\n",
    "        np.random.shuffle(indexList)  #打乱次序\n",
    "        for j in range(m):   #划分数据集:90%训练集，10%测试集\n",
    "            if j < m * 0.9:\n",
    "                trainX.append(xArr[indexList[j]])\n",
    "                trainY.append(yArr[indexList[j]])\n",
    "            else:\n",
    "                testX.append(xArr[indexList[j]])\n",
    "                testY.append(yArr[indexList[j]])\n",
    "        wMat = ridgeTest(trainX, trainY)   #获得30个不同lambda下的岭回归系数\n",
    "        for k in range(30):       #遍历所有的岭回归系数\n",
    "            matTestX = np.mat(testX); matTrainX = np.mat(trainX)  #测试集\n",
    "            meanTrain = np.mean(matTrainX,0)   #测试集均值\n",
    "            varTrain = np.var(matTrainX,0)    #测试集方差\n",
    "            matTestX = (matTestX - meanTrain) / varTrain   #测试集标准化\n",
    "            yEst = matTestX * np.mat(wMat[k,:]).T + np.mean(trainY)  #根据ws预测y值\n",
    "            errorMat[i, k] = rssError(yEst.T.A, np.array(testY))  #统计误差\n",
    "    meanErrors = np.mean(errorMat,0)#计算每次交叉验证的平均误差\n",
    "    minMean = float(min(meanErrors))  #找到最小误差\n",
    "    bestWeights = wMat[np.nonzero(meanErrors == minMean)] #找到最佳回归系数\n",
    "    xMat = np.mat(xArr); yMat = np.mat(yArr).T\n",
    "    meanX = np.mean(xMat,0); varX = np.var(xMat,0)\n",
    "    unReg = bestWeights / varX    #数据还原\n",
    "    print('the best model from Ridge Regression is:\\n',unReg)\n",
    "    print('%f%+f*Year%+f*NumPieces%+f*NewOrUsed%+f*original price' % ((-1 * np.sum(np.multiply(meanX,unReg)) + np.mean(yMat)), unReg[0,0], unReg[0,1], unReg[0,2], unReg[0,3]))  \n",
    "    print('with constant term',-1*np.sum(np.multiply(meanX,unReg))+np.mean(yMat))\n",
    "    yHat=xMat*unReg.T-1*np.sum(np.multiply(meanX,unReg)) +np.mean(yMat)\n",
    "    return yHat"
   ]
  },
  {
   "cell_type": "code",
   "execution_count": 63,
   "id": "05886b07",
   "metadata": {},
   "outputs": [
    {
     "name": "stdout",
     "output_type": "stream",
     "text": [
      "the best model from Ridge Regression is:\n",
      " [[-2.49399540e+01 -4.09306645e-03 -2.46666513e+01  2.26299892e+00]]\n",
      "50010.547699-24.939954*Year-0.004093*NumPieces-24.666651*NewOrUsed+2.262999*original price\n",
      "with constant term 50010.54769858361\n",
      "实际值：85.000000\n",
      "标准回归：76.074189\n",
      "岭回归：90.852819\n"
     ]
    }
   ],
   "source": [
    "lgX,lgY=loadDataSet('./lego.txt')\n",
    "lgX1=np.mat(np.ones((63,5)))\n",
    "lgX1[:,1:5]=np.mat(lgX) #在第0列加上1\n",
    "ws=standRegres(lgX1,lgY)\n",
    "yHat=crossValidation(lgX,lgY,10)\n",
    "print(\"实际值：%f\"%lgY[0])\n",
    "print(\"标准回归：%f\"%(lgX1[0]*ws))\n",
    "print(\"岭回归：%f\"%yHat[0])"
   ]
  },
  {
   "cell_type": "markdown",
   "id": "7d581d5a",
   "metadata": {},
   "source": [
    "这里随机选取样本，因为其随机性，所以每次运行的结果可能略有不同。不过整体如上图所示，可以看出，它与常规的最小二乘法，即普通的线性回归没有太大差异。我们本期望找到一个更易于理解的模型，显然没有达到预期效果。"
   ]
  },
  {
   "cell_type": "code",
   "execution_count": 52,
   "id": "da778158",
   "metadata": {
    "collapsed": true
   },
   "outputs": [
    {
     "data": {
      "text/plain": [
       "array([[-1.45288906e+02, -8.39360442e+03, -3.28682450e+00,\n",
       "         4.42362406e+04],\n",
       "       [-1.46649725e+02, -1.89952152e+03, -2.80638599e+00,\n",
       "         4.27891633e+04],\n",
       "       [-1.44450432e+02,  8.55488076e+02, -1.35089285e+00,\n",
       "         4.00885735e+04],\n",
       "       [-1.37402474e+02,  1.64217093e+03,  1.95840783e+00,\n",
       "         3.44932120e+04],\n",
       "       [-1.24750588e+02,  1.44326171e+03,  7.62540167e+00,\n",
       "         2.50647592e+04],\n",
       "       [-1.10234679e+02,  8.81842164e+02,  1.40617304e+01,\n",
       "         1.43874420e+04],\n",
       "       [-9.96484167e+01,  4.17805568e+02,  1.87140361e+01,\n",
       "         6.66770425e+03],\n",
       "       [-9.40345090e+01,  1.71289137e+02,  2.10844952e+01,\n",
       "         2.71206176e+03],\n",
       "       [-9.11400659e+01,  6.57287394e+01,  2.20487105e+01,\n",
       "         1.03800465e+03],\n",
       "       [-8.86246985e+01,  2.45452725e+01,  2.23181664e+01,\n",
       "         3.87564774e+02],\n",
       "       [-8.41447674e+01,  9.05861459e+00,  2.21495534e+01,\n",
       "         1.43313895e+02],\n",
       "       [-7.44804291e+01,  3.31863501e+00,  2.14607512e+01,\n",
       "         5.27810178e+01],\n",
       "       [-5.68008473e+01,  1.20770663e+00,  2.00168153e+01,\n",
       "         1.93999701e+01],\n",
       "       [-3.43546503e+01,  4.38238026e-01,  1.77836684e+01,\n",
       "         7.12719906e+00],\n",
       "       [-1.62951276e+01,  1.59882766e-01,  1.48514658e+01,\n",
       "         2.62234165e+00],\n",
       "       [-6.48291858e+00,  5.89025383e-02,  1.09847950e+01,\n",
       "         9.67404902e-01],\n",
       "       [-2.35268585e+00,  2.18391027e-02,  6.61152257e+00,\n",
       "         3.57478187e-01],\n",
       "       [-8.35001919e-01,  8.09519290e-03,  3.19552087e+00,\n",
       "         1.32007993e-01],\n",
       "       [-2.99711902e-01,  2.99108326e-03,  1.33043325e+00,\n",
       "         4.86659524e-02],\n",
       "       [-1.08982743e-01,  1.10249682e-03,  5.14449554e-01,\n",
       "         1.79199150e-02],\n",
       "       [-3.99038878e-02,  4.05898142e-04,  1.92885670e-01,\n",
       "         6.59479857e-03],\n",
       "       [-1.46534283e-02,  1.49365062e-04,  7.14631760e-02,\n",
       "         2.42642878e-03],\n",
       "       [-5.38707897e-03,  5.49542829e-05,  2.63587872e-02,\n",
       "         8.92679468e-04],\n",
       "       [-1.98130399e-03,  2.02173589e-05,  9.70622185e-03,\n",
       "         3.28404700e-04],\n",
       "       [-7.28814363e-04,  7.43766021e-06,  3.57198872e-03,\n",
       "         1.20814188e-04],\n",
       "       [-2.68106796e-04,  2.73617711e-06,  1.31423307e-03,\n",
       "         4.44451712e-05],\n",
       "       [-9.86297565e-05,  1.00658531e-06,  4.83502591e-04,\n",
       "         1.63504803e-05],\n",
       "       [-3.62836944e-05,  3.70302314e-07,  1.77873811e-04,\n",
       "         6.01500768e-06],\n",
       "       [-1.33480028e-05,  1.36226645e-07,  6.54365445e-05,\n",
       "         2.21279795e-06],\n",
       "       [-4.91045279e-06,  5.01149871e-08,  2.40728171e-05,\n",
       "         8.14042912e-07]])"
      ]
     },
     "execution_count": 52,
     "metadata": {},
     "output_type": "execute_result"
    }
   ],
   "source": [
    "ridgeTest(lgX,lgY)"
   ]
  },
  {
   "cell_type": "markdown",
   "id": "17402e27",
   "metadata": {},
   "source": [
    "这些系数是经过不同程度的缩减得到的。首先看第1行，第4项比第2项的系数大5倍，比第1项大57倍。这样看来，如果只能选择一个特征来做预测的话，我们应该选择第4个特征，也就是原始价格。如果可以选择2个特征的话，应该选择第4个和第2个特征。\n",
    "这种分析方法使得我们可以挖掘大量数据的内在规律。在仅有4个特征时，该方法的效果也许并不明显;但如果有100个以上的特征，该方法就会变得十分有效:它可以指出哪些特征是关键的，而哪些特征是不重要的。"
   ]
  },
  {
   "cell_type": "markdown",
   "id": "1190250e",
   "metadata": {},
   "source": [
    "## 使用sklearn"
   ]
  },
  {
   "cell_type": "code",
   "execution_count": 66,
   "id": "e7c95b69",
   "metadata": {},
   "outputs": [],
   "source": [
    "def legosklearn():\n",
    "    from sklearn import linear_model\n",
    "    reg = linear_model.Ridge(alpha = 0.3)\n",
    "    lgX = []\n",
    "    lgY = []\n",
    "    lgX,lgY=loadDataSet('./lego.txt')\n",
    "    reg.fit(lgX, lgY)\n",
    "    print('%f%+f*Year%+f*NumPieces%+f*NewOrUsed%+f*original price' % (reg.intercept_, reg.coef_[0], reg.coef_[1], reg.coef_[2], reg.coef_[3]))    "
   ]
  },
  {
   "cell_type": "code",
   "execution_count": 67,
   "id": "738c8c4a",
   "metadata": {},
   "outputs": [
    {
     "name": "stdout",
     "output_type": "stream",
     "text": [
      "55269.683767-27.567743*Year-0.026883*NumPieces-11.015843*NewOrUsed+2.576183*original price\n"
     ]
    }
   ],
   "source": [
    "legosklearn()"
   ]
  }
 ],
 "metadata": {
  "kernelspec": {
   "display_name": "Python 3 (ipykernel)",
   "language": "python",
   "name": "python3"
  },
  "language_info": {
   "codemirror_mode": {
    "name": "ipython",
    "version": 3
   },
   "file_extension": ".py",
   "mimetype": "text/x-python",
   "name": "python",
   "nbconvert_exporter": "python",
   "pygments_lexer": "ipython3",
   "version": "3.8.10"
  },
  "toc": {
   "base_numbering": 1,
   "nav_menu": {},
   "number_sections": true,
   "sideBar": true,
   "skip_h1_title": false,
   "title_cell": "Table of Contents",
   "title_sidebar": "Contents",
   "toc_cell": false,
   "toc_position": {
    "height": "calc(100% - 180px)",
    "left": "10px",
    "top": "150px",
    "width": "279.273px"
   },
   "toc_section_display": true,
   "toc_window_display": false
  }
 },
 "nbformat": 4,
 "nbformat_minor": 5
}
