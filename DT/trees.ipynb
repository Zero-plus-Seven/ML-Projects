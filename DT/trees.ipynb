{
 "cells": [
  {
   "cell_type": "code",
   "execution_count": 1,
   "id": "6e5338aa",
   "metadata": {
    "ExecuteTime": {
     "end_time": "2021-10-06T14:07:35.433379Z",
     "start_time": "2021-10-06T14:07:35.419385Z"
    }
   },
   "outputs": [],
   "source": [
    "from math import log\n",
    "import operator\n",
    "import numpy as np"
   ]
  },
  {
   "cell_type": "markdown",
   "id": "72deffa2",
   "metadata": {},
   "source": [
    "### 创建数据集"
   ]
  },
  {
   "cell_type": "code",
   "execution_count": 2,
   "id": "f8f0a912",
   "metadata": {
    "ExecuteTime": {
     "end_time": "2021-10-06T14:07:35.464646Z",
     "start_time": "2021-10-06T14:07:35.451298Z"
    }
   },
   "outputs": [],
   "source": [
    "def createDataSet():\n",
    "    dataset = [[1, 1, 'yes'],\n",
    "               [1, 1, 'yes'],\n",
    "               [1, 0, 'no'],\n",
    "               [0, 1, 'no'],\n",
    "               [0, 1, 'no']]\n",
    "    labels = ['no surfacing', 'flippers']\n",
    "    return dataset, labels"
   ]
  },
  {
   "cell_type": "code",
   "execution_count": 3,
   "id": "582ee0a0",
   "metadata": {
    "ExecuteTime": {
     "end_time": "2021-10-06T14:07:35.480900Z",
     "start_time": "2021-10-06T14:07:35.465648Z"
    },
    "scrolled": true
   },
   "outputs": [
    {
     "data": {
      "text/plain": [
       "([[1, 1, 'yes'], [1, 1, 'yes'], [1, 0, 'no'], [0, 1, 'no'], [0, 1, 'no']],\n",
       " ['no surfacing', 'flippers'])"
      ]
     },
     "execution_count": 3,
     "metadata": {},
     "output_type": "execute_result"
    }
   ],
   "source": [
    "myDat,labels=createDataSet()\n",
    "myDat,labels"
   ]
  },
  {
   "cell_type": "markdown",
   "id": "f0d753b3",
   "metadata": {},
   "source": [
    "### 按照给定特征划分数据集"
   ]
  },
  {
   "cell_type": "code",
   "execution_count": 4,
   "id": "f96cd255",
   "metadata": {
    "ExecuteTime": {
     "end_time": "2021-10-06T14:07:35.511283Z",
     "start_time": "2021-10-06T14:07:35.496685Z"
    }
   },
   "outputs": [],
   "source": [
    "def splitDataSet(dataset,axis,value):\n",
    "    retDataSet = []\n",
    "    for featVec in dataset:\n",
    "        if featVec[axis]==value:\n",
    "            reduceFeatVec = featVec[:axis]\n",
    "            reduceFeatVec.extend(featVec[axis+1:])\n",
    "            retDataSet.append(reduceFeatVec)\n",
    "    return retDataSet"
   ]
  },
  {
   "cell_type": "markdown",
   "id": "a9b1333e",
   "metadata": {},
   "source": [
    "- Python语言在函数中传递的是列表的引用，在函数内部对列表对象的修改会影响列表对象的整个生存周期，所以要声明一个新的列表对象。\n",
    "- 按指定某个特征将数据集抽取出来"
   ]
  },
  {
   "cell_type": "markdown",
   "id": "afa07e43",
   "metadata": {},
   "source": [
    "### 选择最好的数据集划分方式"
   ]
  },
  {
   "cell_type": "markdown",
   "id": "5ed66353",
   "metadata": {},
   "source": [
    "#### ID3算法，利用信息增益"
   ]
  },
  {
   "cell_type": "markdown",
   "id": "5cebf9a4",
   "metadata": {},
   "source": [
    "计算给定数据集的信息增益"
   ]
  },
  {
   "cell_type": "code",
   "execution_count": 5,
   "id": "78f61f4d",
   "metadata": {},
   "outputs": [],
   "source": [
    "def calShannonEnt(dataSet):\n",
    "    numEntries = len(dataSet)\n",
    "    labelCounts = {}\n",
    "    for featVec in dataSet:\n",
    "        currentLabel = featVec[-1]\n",
    "        if currentLabel not in labelCounts.keys():\n",
    "            labelCounts[currentLabel] = 0\n",
    "        labelCounts[currentLabel] += 1\n",
    "    shannonEnt = 0.0\n",
    "    for key in labelCounts:\n",
    "        prob = float(labelCounts[key])/numEntries\n",
    "        shannonEnt -= prob * log(prob, 2)\n",
    "    return shannonEnt"
   ]
  },
  {
   "cell_type": "code",
   "execution_count": 6,
   "id": "a8a66c31",
   "metadata": {
    "ExecuteTime": {
     "end_time": "2021-10-06T14:07:35.526756Z",
     "start_time": "2021-10-06T14:07:35.512281Z"
    },
    "code_folding": []
   },
   "outputs": [],
   "source": [
    "def chooseBestFeatureToSplit_I(dataset):\n",
    "    numFeatures = len(dataset[0])-1  # 最后一个元素是标签\n",
    "    baseEntropy = calShannonEnt(dataset)\n",
    "    bestInfoGain = 0.0\n",
    "    bestFeature = -1\n",
    "    for i in range(numFeatures):\n",
    "        featList = [example[i] for example in dataset] #取每一个特征值的所有取值\n",
    "        uniqueVals = set(featList)\n",
    "        newEntropy = 0.0\n",
    "        for value in uniqueVals:\n",
    "            subDataSet = splitDataSet(dataset, i, value)\n",
    "            prob = len(subDataSet)/float(len(dataset))  #计算每一个取值的权重\n",
    "            newEntropy += prob*calShannonEnt(subDataSet)\n",
    "        infoGain = baseEntropy - newEntropy\n",
    "        if(infoGain > bestInfoGain):\n",
    "            bestInfoGain = infoGain\n",
    "            bestFeature = i\n",
    "    return bestFeature"
   ]
  },
  {
   "attachments": {
    "image-2.png": {
     "image/png": "[encoded data removed]"
    }
   },
   "cell_type": "markdown",
   "id": "8b04c7ef",
   "metadata": {},
   "source": [
    "#### C4.5算法，利用信息增益比\n",
    "![image-2.png](attachment:image-2.png)"
   ]
  },
  {
   "cell_type": "code",
   "execution_count": 7,
   "id": "2d5e5a85",
   "metadata": {},
   "outputs": [],
   "source": [
    "def chooseBestFeatureToSplit_C(dataset):\n",
    "    numFeatures = len(dataset[0])-1  # 最后一个元素是标签\n",
    "    baseEntropy = calShannonEnt(dataset)\n",
    "    bestInfoGain = 0.0\n",
    "    bestFeature = -1\n",
    "    for i in range(numFeatures):\n",
    "        featList = [example[i] for example in dataset] #取每一个特征值的所有取值\n",
    "        uniqueVals = set(featList)\n",
    "        newEntropy = 0.0\n",
    "        splitInfo=0.0\n",
    "        for value in uniqueVals:\n",
    "            subDataSet = splitDataSet(dataset, i, value)\n",
    "            prob = len(subDataSet)/float(len(dataset))  #计算每一个取值的权重\n",
    "            splitInfo-=prob*log(prob,2)\n",
    "            newEntropy += prob*calShannonEnt(subDataSet)\n",
    "        infoGain = float(baseEntropy - newEntropy)/splitInfo #信息增益/属性的“固有值”\n",
    "        if(infoGain > bestInfoGain):\n",
    "            bestInfoGain = infoGain\n",
    "            bestFeature = i\n",
    "    return bestFeature"
   ]
  },
  {
   "cell_type": "markdown",
   "id": "55ab8d86",
   "metadata": {},
   "source": [
    "#### CART算法，利用基尼指数"
   ]
  },
  {
   "attachments": {
    "image.png": {
     "image/png": "[encoded data removed]"
    }
   },
   "cell_type": "markdown",
   "id": "c504715d",
   "metadata": {},
   "source": [
    "计算给定数据集的基尼指数\n",
    "![image.png](attachment:image.png)"
   ]
  },
  {
   "cell_type": "code",
   "execution_count": 8,
   "id": "8c7b2784",
   "metadata": {},
   "outputs": [],
   "source": [
    "def calcGini(dataSet):\n",
    "    numEntries = len(dataSet)\n",
    "    labelCounts = {}\n",
    "    for featVec in dataSet:\n",
    "        currentLabel = featVec[-1]\n",
    "        if currentLabel not in labelCounts.keys():\n",
    "            labelCounts[currentLabel] = 0\n",
    "        labelCounts[currentLabel] += 1\n",
    "    gini=1.0\n",
    "    for key in labelCounts.keys():\n",
    "        prob=float(labelCounts[key])/numEntries\n",
    "        gini-=prob*prob\n",
    "    return gini\n"
   ]
  },
  {
   "cell_type": "code",
   "execution_count": 9,
   "id": "98323684",
   "metadata": {},
   "outputs": [],
   "source": [
    "def calcGiniWithFeat(dataSet, feature, value):\n",
    "    '''\n",
    "    计算给定特征下的基尼指数\n",
    "    :param dataSet:数据集\n",
    "    :param feature:特征维度\n",
    "    :param value:该特征变量所取的值\n",
    "    :return: 计算结果\n",
    "    '''\n",
    "    D0 = []; D1 = []\n",
    "    # 根据特征划分数据\n",
    "    for featVec in dataSet:\n",
    "        if featVec[feature] == value:\n",
    "            D0.append(featVec)\n",
    "        else:\n",
    "            D1.append(featVec)\n",
    "    Gini = len(D0) / len(dataSet) * calcGini(D0) + len(D1) / len(dataSet) * calcGini(D1)\n",
    "    return Gini\n"
   ]
  },
  {
   "cell_type": "code",
   "execution_count": 10,
   "id": "80b10b11",
   "metadata": {},
   "outputs": [],
   "source": [
    "def chooseBestSplit_G(dataSet):\n",
    "    numFeatures = len(dataSet[0])-1\n",
    "    bestGini = np.inf\n",
    "    bestFeat = 0\n",
    "    bestValue = 0\n",
    "    newGini = 0\n",
    "    for i in range(numFeatures):\n",
    "        featList = [example[i] for example in dataSet]\n",
    "        uniqueVals = set(featList)\n",
    "        for splitVal in uniqueVals:\n",
    "            newGini = calcGiniWithFeat(dataSet, i, splitVal)\n",
    "            if newGini < bestGini:\n",
    "                bestFeat = i\n",
    "                bestGini = newGini\n",
    "    return bestFeat\n",
    "def createCartTree(dataSet,labels):\n",
    "    '''\n",
    "            创建决策树\n",
    "    :param: dataSet:训练数据集\n",
    "    :return: labels:所有的类标签\n",
    "    '''\n",
    "    classList = [example[-1] for example in dataSet]\n",
    "    if classList.count(classList[0]) == len(classList): \n",
    "        return classList[0]             # 第一个递归结束条件：所有的类标签完全相同\n",
    "    if len(dataSet[0]) == 1:        \n",
    "        return majorityCnt(classList)   # 第二个递归结束条件：用完了所有特征\n",
    "    bestFeat = chooseBestSplit_G(dataSet)   # 最优划分特征\n",
    "    bestFeatLabel = labels[bestFeat]\n",
    "    myTree = {bestFeatLabel:{}}         # 使用字典类型储存树的信息\n",
    "#     del(labels[bestFeat])\n",
    "    featValues = [example[bestFeat] for example in dataSet]\n",
    "    uniqueVals = set(featValues)\n",
    "    for value in uniqueVals:\n",
    "        subLabels = labels[:]       # 复制所有类标签，保证每次递归调用时不改变原始列表的内容\n",
    "        myTree[bestFeatLabel][value] = createTree(splitDataSet(dataSet, bestFeat, value),subLabels)\n",
    "    return myTree           "
   ]
  },
  {
   "cell_type": "code",
   "execution_count": 11,
   "id": "e228eac9",
   "metadata": {
    "ExecuteTime": {
     "end_time": "2021-10-06T14:07:35.542672Z",
     "start_time": "2021-10-06T14:07:35.529709Z"
    }
   },
   "outputs": [
    {
     "data": {
      "text/plain": [
       "0"
      ]
     },
     "execution_count": 11,
     "metadata": {},
     "output_type": "execute_result"
    }
   ],
   "source": [
    "chooseBestFeatureToSplit_I(myDat)"
   ]
  },
  {
   "cell_type": "code",
   "execution_count": 12,
   "id": "248eeda7",
   "metadata": {},
   "outputs": [
    {
     "data": {
      "text/plain": [
       "0"
      ]
     },
     "execution_count": 12,
     "metadata": {},
     "output_type": "execute_result"
    }
   ],
   "source": [
    "chooseBestFeatureToSplit_C(myDat)"
   ]
  },
  {
   "cell_type": "code",
   "execution_count": 13,
   "id": "20018052",
   "metadata": {},
   "outputs": [
    {
     "data": {
      "text/plain": [
       "0"
      ]
     },
     "execution_count": 13,
     "metadata": {},
     "output_type": "execute_result"
    }
   ],
   "source": [
    "chooseBestSplit_G(myDat)"
   ]
  },
  {
   "cell_type": "markdown",
   "id": "50a55a60",
   "metadata": {},
   "source": [
    "### 递归构建决策树"
   ]
  },
  {
   "cell_type": "code",
   "execution_count": 14,
   "id": "e4e3fde9",
   "metadata": {
    "ExecuteTime": {
     "end_time": "2021-10-06T14:07:35.558763Z",
     "start_time": "2021-10-06T14:07:35.544667Z"
    }
   },
   "outputs": [],
   "source": [
    "def majorityCnt(classList):  # 返回出现次数最多的分类标签\n",
    "    classCount = {}\n",
    "    for vote in classList:\n",
    "        if vote not in classCount.keys():\n",
    "            classCount[vote] = 0\n",
    "        classCount[vote] += 1\n",
    "    sortedClassCount = sorted(\n",
    "        classCount.items(), key=operator.itemgetter(1), reverse=True)\n",
    "    return sortedClassCount[0][0]\n"
   ]
  },
  {
   "cell_type": "markdown",
   "id": "03f2984a",
   "metadata": {},
   "source": [
    "### 创建树的函数代码"
   ]
  },
  {
   "cell_type": "code",
   "execution_count": 15,
   "id": "dab8da75",
   "metadata": {
    "ExecuteTime": {
     "end_time": "2021-10-06T14:07:35.574816Z",
     "start_time": "2021-10-06T14:07:35.559729Z"
    }
   },
   "outputs": [],
   "source": [
    "def createTree(dataSet, labels):\n",
    "    classList = [example[-1] for example in dataSet]\n",
    "    if classList.count(classList[0]) == len(classList):\n",
    "        return classList[0]  # 类别完全相同则停止继续划分\n",
    "    if len(dataSet[0]) == 1:\n",
    "        return majorityCnt(classList)  # 遍历完所有特征时返回出现次数最多的\n",
    "    bestFeat = chooseBestFeatureToSplit_I(dataSet)\n",
    "    bestFeatLabel = labels[bestFeat]\n",
    "    myTree = {bestFeatLabel: {}}\n",
    "    del(labels[bestFeat])\n",
    "    featValues = [example[bestFeat] for example in dataSet]\n",
    "    uniqueVals = set(featValues)\n",
    "    for value in uniqueVals:\n",
    "        subLabels = labels[:]\n",
    "        myTree[bestFeatLabel][value] = createTree(\n",
    "            splitDataSet(dataSet, bestFeat, value), subLabels)\n",
    "    return myTree"
   ]
  },
  {
   "cell_type": "code",
   "execution_count": 16,
   "id": "7e2ecd17",
   "metadata": {
    "ExecuteTime": {
     "end_time": "2021-10-06T14:07:35.590282Z",
     "start_time": "2021-10-06T14:07:35.575815Z"
    }
   },
   "outputs": [],
   "source": [
    "mytree = createTree(myDat,labels)"
   ]
  },
  {
   "cell_type": "code",
   "execution_count": 17,
   "id": "aed2b111",
   "metadata": {
    "ExecuteTime": {
     "end_time": "2021-10-06T14:07:35.606325Z",
     "start_time": "2021-10-06T14:07:35.591243Z"
    },
    "scrolled": true
   },
   "outputs": [
    {
     "data": {
      "text/plain": [
       "{'no surfacing': {0: 'no', 1: {'flippers': {0: 'no', 1: 'yes'}}}}"
      ]
     },
     "execution_count": 17,
     "metadata": {},
     "output_type": "execute_result"
    }
   ],
   "source": [
    "mytree"
   ]
  },
  {
   "cell_type": "markdown",
   "id": "26e83754",
   "metadata": {},
   "source": [
    "### 构造注解树"
   ]
  },
  {
   "cell_type": "code",
   "execution_count": 56,
   "id": "d5a61ceb",
   "metadata": {
    "ExecuteTime": {
     "end_time": "2021-10-06T14:07:57.998453Z",
     "start_time": "2021-10-06T14:07:57.993433Z"
    }
   },
   "outputs": [],
   "source": [
    "import matplotlib.pyplot as plt\n",
    "plt.rcParams['font.sans-serif'] = ['SimHei']\n",
    "plt.rcParams['axes.unicode_minus'] = False\n",
    "\n",
    "decisionNode = dict(boxstyle=\"circle\", color=\"#009900\")\n",
    "leafNode = dict(boxstyle=\"round4\", color=\"#00CC66\")\n",
    "arrow_args = dict(arrowstyle=\"<|-\",color='#999933')\n",
    "\n",
    "\n",
    "def getNumLeafs(myTree):\n",
    "    numLeafs = 0\n",
    "    firstStr = list(myTree.keys())[0]\n",
    "    secondDict = myTree[firstStr]\n",
    "    for key in secondDict.keys():\n",
    "        # test to see if the nodes are dictonaires, if not they are leaf nodes\n",
    "        if type(secondDict[key]).__name__ == 'dict':\n",
    "            numLeafs += getNumLeafs(secondDict[key])\n",
    "        else:\n",
    "            numLeafs += 1\n",
    "    return numLeafs\n",
    "\n",
    "\n",
    "def getTreeDepth(myTree):\n",
    "    maxDepth = 0\n",
    "    firstStr = list(myTree.keys())[0]\n",
    "    secondDict = myTree[firstStr]\n",
    "    for key in secondDict.keys():\n",
    "        # test to see if the nodes are dictonaires, if not they are leaf nodes\n",
    "        if type(secondDict[key]).__name__ == 'dict':\n",
    "            thisDepth = 1 + getTreeDepth(secondDict[key])\n",
    "        else:\n",
    "            thisDepth = 1\n",
    "        if thisDepth > maxDepth:\n",
    "            maxDepth = thisDepth\n",
    "    return maxDepth"
   ]
  },
  {
   "cell_type": "code",
   "execution_count": 47,
   "id": "d284b3e1",
   "metadata": {
    "ExecuteTime": {
     "end_time": "2021-10-06T14:07:58.843201Z",
     "start_time": "2021-10-06T14:07:58.827245Z"
    }
   },
   "outputs": [
    {
     "data": {
      "text/plain": [
       "3"
      ]
     },
     "execution_count": 47,
     "metadata": {},
     "output_type": "execute_result"
    }
   ],
   "source": [
    "getNumLeafs(mytree)"
   ]
  },
  {
   "cell_type": "code",
   "execution_count": 20,
   "id": "b66802c7",
   "metadata": {
    "ExecuteTime": {
     "end_time": "2021-10-06T14:07:35.887855Z",
     "start_time": "2021-10-06T14:07:35.873772Z"
    }
   },
   "outputs": [
    {
     "data": {
      "text/plain": [
       "2"
      ]
     },
     "execution_count": 20,
     "metadata": {},
     "output_type": "execute_result"
    }
   ],
   "source": [
    "getTreeDepth(mytree)"
   ]
  },
  {
   "cell_type": "code",
   "execution_count": 21,
   "id": "aaf789e4",
   "metadata": {},
   "outputs": [],
   "source": [
    "def retrieveTree(i):\n",
    "    listOfTree = [{'no surfacing': {0: 'no', 1: {'flippers': {0: 'no', 1: 'yes'}}}}, {\n",
    "        'no surfacing': {0: 'no', 1: {'flippers': {0: {'head': {0: 'no', 1: 'yes'}}, 1: 'no'}}}}]\n",
    "    return listOfTree[i]"
   ]
  },
  {
   "cell_type": "code",
   "execution_count": 59,
   "id": "1873dad6",
   "metadata": {
    "ExecuteTime": {
     "end_time": "2021-10-06T14:08:00.123061Z",
     "start_time": "2021-10-06T14:08:00.100089Z"
    }
   },
   "outputs": [],
   "source": [
    "def plotNode(nodeTxt, centerPt, parentPt, nodeType):\n",
    "    createPlot.ax1.annotate(nodeTxt, xy=parentPt,  xycoords='axes fraction',\n",
    "                            xytext=centerPt, textcoords='axes fraction',\n",
    "                            va=\"center\", ha=\"center\", bbox=nodeType, arrowprops=arrow_args)\n",
    "\n",
    "\n",
    "def plotMidText(cntrPt, parentPt, txtString):\n",
    "    xMid = (parentPt[0]-cntrPt[0])/2.0 + cntrPt[0]\n",
    "    yMid = (parentPt[1]-cntrPt[1])/2.0 + cntrPt[1]\n",
    "    createPlot.ax1.text(xMid, yMid, txtString, va=\"center\",\n",
    "                        ha=\"center\", rotation=40)\n",
    "\n",
    "\n",
    "def plotTree(myTree, parentPt, nodeTxt):  # if the first key tells you what feat was split on\n",
    "    numLeafs = getNumLeafs(myTree)  # this determines the x width of this tree\n",
    "    depth = getTreeDepth(myTree)\n",
    "    # the text label for this node should be this\n",
    "    firstStr = list(myTree.keys())[0]\n",
    "    cntrPt = (plotTree.xOff + (1.0 + float(numLeafs)) /\n",
    "              2.0/plotTree.totalW, plotTree.yOff)\n",
    "    plotMidText(cntrPt, parentPt, nodeTxt)\n",
    "    plotNode(firstStr, cntrPt, parentPt, decisionNode)\n",
    "    secondDict = myTree[firstStr]\n",
    "    plotTree.yOff = plotTree.yOff - 1.0/plotTree.totalD\n",
    "    for key in secondDict.keys():\n",
    "        # test to see if the nodes are dictonaires, if not they are leaf nodes\n",
    "        if type(secondDict[key]).__name__ == 'dict':\n",
    "            plotTree(secondDict[key], cntrPt, str(key))  # recursion\n",
    "        else:  # it's a leaf node print the leaf node\n",
    "            plotTree.xOff = plotTree.xOff + 1.0/plotTree.totalW\n",
    "            plotNode(secondDict[key], (plotTree.xOff,\n",
    "                     plotTree.yOff), cntrPt, leafNode)\n",
    "            plotMidText((plotTree.xOff, plotTree.yOff), cntrPt, str(key))\n",
    "    plotTree.yOff = plotTree.yOff + 1.0/plotTree.totalD\n",
    "# if you do get a dictonary you know it's a tree, and the first element will be another dict\n",
    "\n",
    "\n",
    "def createPlot(inTree, name):\n",
    "    fig = plt.figure(1, facecolor='white')\n",
    "    fig.clf()\n",
    "    axprops = dict(xticks=[], yticks=[])\n",
    "    createPlot.ax1 = plt.subplot(111, frameon=False, **axprops)  # no ticks\n",
    "    # createPlot.ax1 = plt.subplot(111, frameon=False) #ticks for demo puropses\n",
    "    plotTree.totalW = float(getNumLeafs(inTree))\n",
    "    plotTree.totalD = float(getTreeDepth(inTree))\n",
    "    plotTree.xOff = -0.5/plotTree.totalW\n",
    "    plotTree.yOff = 1.0\n",
    "    plotTree(inTree, (0.5, 1.0), '')\n",
    "    plt.savefig(str(name))\n",
    "    plt.show()"
   ]
  },
  {
   "cell_type": "code",
   "execution_count": 60,
   "id": "5ae6b439",
   "metadata": {
    "ExecuteTime": {
     "end_time": "2021-10-06T14:08:01.200876Z",
     "start_time": "2021-10-06T14:08:00.939177Z"
    }
   },
   "outputs": [
    {
     "data": {
      "image/png": "[encoded data removed]",
      "text/plain": [
       "<Figure size 432x288 with 1 Axes>"
      ]
     },
     "metadata": {},
     "output_type": "display_data"
    }
   ],
   "source": [
    "createPlot(mytree, 'test')"
   ]
  },
  {
   "cell_type": "markdown",
   "id": "774f8c07",
   "metadata": {},
   "source": [
    "### 测试算法：使用决策树执行分类"
   ]
  },
  {
   "cell_type": "code",
   "execution_count": 24,
   "id": "fd648bcc",
   "metadata": {},
   "outputs": [],
   "source": [
    "def classify(inputTree, featLabels, testVec):\n",
    "    firstStr = list(inputTree.keys())[0]\n",
    "    secondDict = inputTree[firstStr]\n",
    "    featIndex = featLabels.index(firstStr)\n",
    "    for key in secondDict.keys():\n",
    "        if testVec[featIndex] == key:\n",
    "            if type(secondDict[key]).__name__ == 'dict':\n",
    "                classLabel = classify(secondDict[key], featLabels, testVec)\n",
    "            else:\n",
    "                classLabel = secondDict[key]\n",
    "    return classLabel"
   ]
  },
  {
   "cell_type": "code",
   "execution_count": 25,
   "id": "65ccc827",
   "metadata": {},
   "outputs": [
    {
     "data": {
      "text/plain": [
       "['no surfacing', 'flippers']"
      ]
     },
     "execution_count": 25,
     "metadata": {},
     "output_type": "execute_result"
    }
   ],
   "source": [
    "myDat,labels=createDataSet()\n",
    "labels"
   ]
  },
  {
   "cell_type": "code",
   "execution_count": 26,
   "id": "602fae64",
   "metadata": {},
   "outputs": [
    {
     "data": {
      "text/plain": [
       "{'no surfacing': {0: 'no', 1: {'flippers': {0: 'no', 1: 'yes'}}}}"
      ]
     },
     "execution_count": 26,
     "metadata": {},
     "output_type": "execute_result"
    }
   ],
   "source": [
    "myTree=retrieveTree(0)\n",
    "myTree"
   ]
  },
  {
   "cell_type": "code",
   "execution_count": 27,
   "id": "0315e68e",
   "metadata": {},
   "outputs": [
    {
     "data": {
      "text/plain": [
       "'no'"
      ]
     },
     "execution_count": 27,
     "metadata": {},
     "output_type": "execute_result"
    }
   ],
   "source": [
    "classify(myTree,labels,[1,0])"
   ]
  },
  {
   "cell_type": "code",
   "execution_count": 28,
   "id": "ff92a15a",
   "metadata": {},
   "outputs": [
    {
     "data": {
      "text/plain": [
       "'yes'"
      ]
     },
     "execution_count": 28,
     "metadata": {},
     "output_type": "execute_result"
    }
   ],
   "source": [
    "classify(myTree,labels,[1,1])"
   ]
  },
  {
   "cell_type": "markdown",
   "id": "ba7ce058",
   "metadata": {},
   "source": [
    "### 使用算法：决策树的存储"
   ]
  },
  {
   "cell_type": "code",
   "execution_count": 29,
   "id": "57436a2e",
   "metadata": {},
   "outputs": [],
   "source": [
    "def storeTree(inputTree,filename):\n",
    "    import pickle\n",
    "    fw=open(filename,'wb')\n",
    "    pickle.dump(inputTree,fw)\n",
    "    fw.close()\n",
    "    \n",
    "def grabTree(filename):\n",
    "    import pickle\n",
    "    fr=open(filename,'rb')\n",
    "    return pickle.load(fr)"
   ]
  },
  {
   "cell_type": "code",
   "execution_count": 30,
   "id": "ea8c2ae2",
   "metadata": {},
   "outputs": [
    {
     "data": {
      "text/plain": [
       "{'no surfacing': {0: 'no', 1: {'flippers': {0: 'no', 1: 'yes'}}}}"
      ]
     },
     "execution_count": 30,
     "metadata": {},
     "output_type": "execute_result"
    }
   ],
   "source": [
    "storeTree(myTree,'./classifierStorage.txt')\n",
    "grabTree('./classifierStorage.txt')"
   ]
  },
  {
   "cell_type": "markdown",
   "id": "dac16b2e",
   "metadata": {},
   "source": [
    "## 预测隐形眼镜类型"
   ]
  },
  {
   "cell_type": "code",
   "execution_count": 31,
   "id": "ad259241",
   "metadata": {},
   "outputs": [
    {
     "data": {
      "text/plain": [
       "(24, ['age', 'prescript', 'astigmatic', 'tearRate'])"
      ]
     },
     "execution_count": 31,
     "metadata": {},
     "output_type": "execute_result"
    }
   ],
   "source": [
    "fr = open('./lenses.txt')\n",
    "lenses = [inst.strip().split('\\t') for inst in fr.readlines()]\n",
    "lensesLabels = ['age', 'prescript', 'astigmatic', 'tearRate']\n",
    "fr.close()\n",
    "len(lenses),lensesLabels"
   ]
  },
  {
   "cell_type": "code",
   "execution_count": 32,
   "id": "4ccaed6f",
   "metadata": {},
   "outputs": [
    {
     "data": {
      "text/plain": [
       "[['young', 'myope', 'no', 'reduced', 'no lenses'],\n",
       " ['young', 'myope', 'no', 'normal', 'soft'],\n",
       " ['young', 'myope', 'yes', 'reduced', 'no lenses'],\n",
       " ['young', 'myope', 'yes', 'normal', 'hard'],\n",
       " ['young', 'hyper', 'no', 'reduced', 'no lenses'],\n",
       " ['young', 'hyper', 'no', 'normal', 'soft'],\n",
       " ['young', 'hyper', 'yes', 'reduced', 'no lenses'],\n",
       " ['young', 'hyper', 'yes', 'normal', 'hard'],\n",
       " ['pre', 'myope', 'no', 'reduced', 'no lenses'],\n",
       " ['pre', 'myope', 'no', 'normal', 'soft'],\n",
       " ['pre', 'myope', 'yes', 'reduced', 'no lenses'],\n",
       " ['pre', 'myope', 'yes', 'normal', 'hard'],\n",
       " ['pre', 'hyper', 'no', 'reduced', 'no lenses'],\n",
       " ['pre', 'hyper', 'no', 'normal', 'soft'],\n",
       " ['pre', 'hyper', 'yes', 'reduced', 'no lenses'],\n",
       " ['pre', 'hyper', 'yes', 'normal', 'no lenses'],\n",
       " ['presbyopic', 'myope', 'no', 'reduced', 'no lenses'],\n",
       " ['presbyopic', 'myope', 'no', 'normal', 'no lenses'],\n",
       " ['presbyopic', 'myope', 'yes', 'reduced', 'no lenses'],\n",
       " ['presbyopic', 'myope', 'yes', 'normal', 'hard'],\n",
       " ['presbyopic', 'hyper', 'no', 'reduced', 'no lenses'],\n",
       " ['presbyopic', 'hyper', 'no', 'normal', 'soft'],\n",
       " ['presbyopic', 'hyper', 'yes', 'reduced', 'no lenses'],\n",
       " ['presbyopic', 'hyper', 'yes', 'normal', 'no lenses']]"
      ]
     },
     "execution_count": 32,
     "metadata": {},
     "output_type": "execute_result"
    }
   ],
   "source": [
    "lenses"
   ]
  },
  {
   "cell_type": "code",
   "execution_count": 33,
   "id": "9e5792ff",
   "metadata": {
    "scrolled": true
   },
   "outputs": [
    {
     "data": {
      "text/plain": [
       "({'tearRate': {'normal': {'astigmatic': {'yes': {'prescript': {'myope': 'hard',\n",
       "       'hyper': {'age': {'presbyopic': 'no lenses',\n",
       "         'young': 'hard',\n",
       "         'pre': 'no lenses'}}}},\n",
       "     'no': {'age': {'presbyopic': {'prescript': {'myope': 'no lenses',\n",
       "         'hyper': 'soft'}},\n",
       "       'young': 'soft',\n",
       "       'pre': 'soft'}}}},\n",
       "   'reduced': 'no lenses'}},\n",
       " ['age', 'prescript', 'astigmatic'])"
      ]
     },
     "execution_count": 33,
     "metadata": {},
     "output_type": "execute_result"
    }
   ],
   "source": [
    "lensesTree = createTree(lenses, lensesLabels)\n",
    "lensesTree,lensesLabels"
   ]
  },
  {
   "cell_type": "code",
   "execution_count": 34,
   "id": "8c2b293b",
   "metadata": {},
   "outputs": [
    {
     "data": {
      "text/plain": [
       "3"
      ]
     },
     "execution_count": 34,
     "metadata": {},
     "output_type": "execute_result"
    }
   ],
   "source": [
    "chooseBestFeatureToSplit_C(lenses)"
   ]
  },
  {
   "cell_type": "code",
   "execution_count": 35,
   "id": "5f395368",
   "metadata": {},
   "outputs": [
    {
     "data": {
      "text/plain": [
       "3"
      ]
     },
     "execution_count": 35,
     "metadata": {},
     "output_type": "execute_result"
    }
   ],
   "source": [
    "chooseBestFeatureToSplit_I(lenses)"
   ]
  },
  {
   "cell_type": "code",
   "execution_count": 36,
   "id": "3d135204",
   "metadata": {},
   "outputs": [
    {
     "data": {
      "text/plain": [
       "3"
      ]
     },
     "execution_count": 36,
     "metadata": {},
     "output_type": "execute_result"
    }
   ],
   "source": [
    "chooseBestSplit_G(lenses)"
   ]
  },
  {
   "cell_type": "code",
   "execution_count": 37,
   "id": "ef37835f",
   "metadata": {},
   "outputs": [],
   "source": [
    "# 计算预测误差 \n",
    "def calcTestErr(myTree,testData,labels):\n",
    "    errorCount = 0.0\n",
    "    for i in range(len(testData)): \n",
    "        if classify(myTree,labels,testData[i]) != testData[i][-1]:\n",
    "            errorCount += 1 \n",
    "    return float(errorCount)"
   ]
  },
  {
   "cell_type": "code",
   "execution_count": 61,
   "id": "4efc5187",
   "metadata": {},
   "outputs": [
    {
     "data": {
      "image/png": "[encoded data removed]",
      "text/plain": [
       "<Figure size 432x288 with 1 Axes>"
      ]
     },
     "metadata": {},
     "output_type": "display_data"
    }
   ],
   "source": [
    "createPlot(lensesTree,'lenses')"
   ]
  },
  {
   "cell_type": "code",
   "execution_count": null,
   "id": "2ff1cfc7",
   "metadata": {},
   "outputs": [],
   "source": []
  }
 ],
 "metadata": {
  "kernelspec": {
   "display_name": "Python 3 (ipykernel)",
   "language": "python",
   "name": "python3"
  },
  "language_info": {
   "codemirror_mode": {
    "name": "ipython",
    "version": 3
   },
   "file_extension": ".py",
   "mimetype": "text/x-python",
   "name": "python",
   "nbconvert_exporter": "python",
   "pygments_lexer": "ipython3",
   "version": "3.8.10"
  },
  "toc": {
   "base_numbering": 1,
   "nav_menu": {},
   "number_sections": true,
   "sideBar": true,
   "skip_h1_title": false,
   "title_cell": "Table of Contents",
   "title_sidebar": "Contents",
   "toc_cell": false,
   "toc_position": {},
   "toc_section_display": true,
   "toc_window_display": false
  },
  "widgets": {
   "application/vnd.jupyter.widget-state+json": {
    "state": {},
    "version_major": 2,
    "version_minor": 0
   }
  }
 },
 "nbformat": 4,
 "nbformat_minor": 5
}
