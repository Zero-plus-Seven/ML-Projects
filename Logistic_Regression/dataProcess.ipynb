{
 "cells": [
  {
   "cell_type": "code",
   "execution_count": 1,
   "id": "9fa0751c",
   "metadata": {},
   "outputs": [],
   "source": [
    "import numpy as np\n",
    "\n",
    "def prepared_data(path):\n",
    "    file = open(path)\n",
    "    fr = file.readlines()\n",
    "    data_list=[]\n",
    "    y = []\n",
    "    for data in fr:\n",
    "        data=data.strip()\n",
    "        data=data.split(' ')\n",
    "        data_25 = data[24]\n",
    "        y.append(data[22])\n",
    "        del data[-1]\n",
    "        del data[26]\n",
    "        del data[25]\n",
    "        del data[24]\n",
    "        del data[22]\n",
    "        del data[2]\n",
    "        for i in data_25:\n",
    "            data.append(i)\n",
    "        data = [0 if data_elem=='?' else float(data_elem) for data_elem in data]\n",
    "        data_list.append(data)\n",
    "    data_number = len(y)\n",
    "    y = np.array([1 if y[j]=='2' or y[j]=='3' else 0 for j in range(data_number)])\n",
    "    X = np.array(data_list)\n",
    "    X=np.insert(X,0,1,axis=1)\n",
    "    return X,y\n",
    "\n"
   ]
  },
  {
   "cell_type": "code",
   "execution_count": 6,
   "id": "8defaf13",
   "metadata": {},
   "outputs": [
    {
     "data": {
      "text/plain": [
       "(array([[1., 2., 1., ..., 1., 1., 1.],\n",
       "        [1., 2., 1., ..., 1., 1., 1.],\n",
       "        [1., 1., 1., ..., 2., 0., 5.],\n",
       "        ...,\n",
       "        [1., 1., 1., ..., 2., 0., 9.],\n",
       "        [1., 2., 1., ..., 1., 1., 1.],\n",
       "        [1., 2., 1., ..., 1., 1., 2.]]),\n",
       " array([0, 0, 0, 1, 0, 0, 0, 0, 0, 0, 1, 0, 1, 1, 0, 0, 0, 0, 1, 1, 1, 0,\n",
       "        0, 1, 1, 0, 0, 0, 0, 0, 0, 0, 0, 0, 1, 0, 1, 0, 0, 0, 0, 0, 0, 0,\n",
       "        1, 0, 0, 0, 0, 0, 1, 1, 1, 1, 0, 0, 0, 0, 1, 0, 0, 0, 1, 0, 0, 1,\n",
       "        0, 1]))"
      ]
     },
     "execution_count": 6,
     "metadata": {},
     "output_type": "execute_result"
    }
   ],
   "source": [
    "X,y = prepared_data('./horseColoc-original/horse-colic.data')\n",
    "X_test,y_test=prepared_data('./horseColoc-original/horse-colic.test')\n",
    "X_test,y_test"
   ]
  },
  {
   "cell_type": "code",
   "execution_count": 7,
   "id": "2b7aa0de",
   "metadata": {},
   "outputs": [
    {
     "data": {
      "text/plain": [
       "(array([[1., 2., 1., ..., 3., 0., 0.],\n",
       "        [1., 1., 1., ..., 2., 0., 8.],\n",
       "        [1., 2., 1., ..., 0., 0., 0.],\n",
       "        ...,\n",
       "        [1., 1., 1., ..., 2., 0., 5.],\n",
       "        [1., 1., 1., ..., 2., 0., 8.],\n",
       "        [1., 1., 1., ..., 1., 1., 2.]]),\n",
       " array([1, 1, 0, 1, 1, 0, 0, 1, 1, 0, 0, 0, 0, 1, 0, 1, 1, 0, 0, 0, 0, 0,\n",
       "        0, 0, 0, 0, 0, 0, 1, 0, 1, 1, 0, 0, 0, 1, 1, 0, 0, 1, 1, 0, 0, 1,\n",
       "        1, 1, 0, 0, 1, 1, 0, 1, 0, 0, 1, 1, 0, 1, 1, 1, 0, 0, 1, 1, 0, 0,\n",
       "        0, 0, 0, 0, 1, 0, 1, 1, 1, 1, 0, 0, 1, 0, 1, 0, 0, 1, 0, 0, 1, 1,\n",
       "        0, 0, 0, 1, 0, 1, 0, 0, 0, 1, 0, 0, 0, 1, 0, 0, 1, 0, 0, 0, 1, 1,\n",
       "        1, 0, 0, 1, 0, 0, 0, 1, 0, 0, 0, 1, 0, 1, 1, 0, 0, 0, 1, 0, 1, 1,\n",
       "        0, 0, 1, 1, 1, 0, 0, 0, 0, 1, 1, 0, 1, 0, 0, 1, 0, 0, 0, 1, 0, 0,\n",
       "        0, 0, 0, 1, 0, 0, 0, 1, 0, 1, 0, 1, 0, 0, 0, 1, 0, 1, 0, 1, 1, 0,\n",
       "        0, 1, 0, 1, 1, 0, 1, 0, 0, 0, 0, 0, 0, 0, 0, 0, 0, 1, 0, 0, 1, 1,\n",
       "        0, 0, 0, 1, 1, 0, 0, 1, 0, 1, 1, 0, 1, 1, 0, 0, 0, 0, 0, 0, 1, 0,\n",
       "        1, 0, 0, 0, 0, 0, 1, 0, 1, 0, 0, 1, 0, 0, 0, 1, 0, 0, 1, 1, 1, 0,\n",
       "        1, 0, 0, 1, 0, 1, 0, 0, 1, 1, 1, 0, 0, 1, 1, 1, 0, 1, 0, 0, 0, 1,\n",
       "        0, 1, 0, 0, 0, 0, 1, 0, 0, 1, 1, 1, 1, 0, 0, 0, 0, 1, 1, 0, 0, 0,\n",
       "        1, 0, 0, 0, 0, 1, 1, 1, 0, 1, 1, 1, 0, 1]))"
      ]
     },
     "execution_count": 7,
     "metadata": {},
     "output_type": "execute_result"
    }
   ],
   "source": [
    "X,y"
   ]
  }
 ],
 "metadata": {
  "kernelspec": {
   "display_name": "Python 3 (ipykernel)",
   "language": "python",
   "name": "python3"
  },
  "language_info": {
   "codemirror_mode": {
    "name": "ipython",
    "version": 3
   },
   "file_extension": ".py",
   "mimetype": "text/x-python",
   "name": "python",
   "nbconvert_exporter": "python",
   "pygments_lexer": "ipython3",
   "version": "3.9.9"
  },
  "toc": {
   "base_numbering": 1,
   "nav_menu": {},
   "number_sections": true,
   "sideBar": true,
   "skip_h1_title": false,
   "title_cell": "Table of Contents",
   "title_sidebar": "Contents",
   "toc_cell": false,
   "toc_position": {},
   "toc_section_display": true,
   "toc_window_display": false
  }
 },
 "nbformat": 4,
 "nbformat_minor": 5
}
